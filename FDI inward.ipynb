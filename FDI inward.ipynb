{
 "cells": [
  {
   "cell_type": "code",
   "execution_count": 1,
   "metadata": {},
   "outputs": [
    {
     "name": "stderr",
     "output_type": "stream",
     "text": [
      "WARNING:Unexpected \"next release\" field: Unknown string format\n"
     ]
    },
    {
     "data": {
      "text/markdown": [
       "## Foreign direct investment involving UK companies: inward\n",
       "\n",
       "Annual statistics on the investment of foreign companies into the UK, including for investment flows, positions and earnings.\n",
       "\n",
       "### Distributions\n",
       "\n",
       "1. Foreign direct investment involving UK companies: inward ([MS Excel Spreadsheet](https://www.ons.gov.uk/file?uri=/businessindustryandtrade/business/businessinnovation/datasets/foreigndirectinvestmentinvolvingukcompanies2013inwardtables/current/annualforeigndirectinvestment2017inward.xls))\n"
      ],
      "text/plain": [
       "<gssutils.scrape.Scraper at 0x2ce1e9f9550>"
      ]
     },
     "execution_count": 1,
     "metadata": {},
     "output_type": "execute_result"
    }
   ],
   "source": [
    "from gssutils import *\n",
    "\n",
    "scraper = Scraper('https://www.ons.gov.uk/businessindustryandtrade/business/businessinnovation/datasets/' \\\n",
    "                  'foreigndirectinvestmentinvolvingukcompanies2013inwardtables')\n",
    "scraper"
   ]
  },
  {
   "cell_type": "code",
   "execution_count": 2,
   "metadata": {},
   "outputs": [
    {
     "data": {
      "text/plain": [
       "dict_keys(['Contents', '1.1', '1.2', '1.3', '2.1', '2.2', '2.3', '3.1', '3.2', '3.3', '4.1', '4.2', '4.3', 'Geography', 'SIC'])"
      ]
     },
     "execution_count": 2,
     "metadata": {},
     "output_type": "execute_result"
    }
   ],
   "source": [
    "sheets = {sheet.name: sheet for sheet in scraper.distribution().as_databaker()}\n",
    "sheets.keys()"
   ]
  },
  {
   "cell_type": "code",
   "execution_count": 3,
   "metadata": {
    "collapsed": true
   },
   "outputs": [],
   "source": [
    "sh = ['2.2','3.2','4.2']"
   ]
  },
  {
   "cell_type": "code",
   "execution_count": 4,
   "metadata": {
    "collapsed": true
   },
   "outputs": [],
   "source": [
    "table = pd.DataFrame()"
   ]
  },
  {
   "cell_type": "code",
   "execution_count": 5,
   "metadata": {},
   "outputs": [
    {
     "name": "stdout",
     "output_type": "stream",
     "text": [
      "\n",
      "\n",
      "\n"
     ]
    }
   ],
   "source": [
    "for sh_id in sh:\n",
    "    by_area = sheets[sh_id]\n",
    "    years = by_area.excel_ref('D6').expand(DOWN).is_not_blank().is_not_whitespace()\n",
    "    areas = by_area.excel_ref('A5').expand(DOWN).is_not_blank()\n",
    "    sub_areas = by_area.excel_ref('B5').expand(DOWN).is_not_blank().filter(lambda c: c.value.strip() != 'of which')\n",
    "    countries = by_area.excel_ref('C').expand(DOWN).by_index([7,11,15,19,23,27,31,35,39,43,47,51,55,59,63,67,71,75,79,83,87,\n",
    "                                                            91,95,99,103,107,111,115,119,123,127,131,135,139,143,147,151,155,159,\n",
    "                                                             163,167,171,175,179,183,187,191,195,199,203,207,211,215,219,223,227])\n",
    "    components = by_area.excel_ref('E5:M6').expand(RIGHT).is_not_blank().is_not_whitespace()\n",
    "    components = components - by_area.excel_ref('E5') - by_area.excel_ref('H5') - by_area.excel_ref('L5')                     \n",
    "    obs = by_area.excel_ref('E7').expand(DOWN).expand(RIGHT).is_not_blank().is_not_whitespace() \n",
    "    cs = ConversionSegment(\n",
    "        obs, [\n",
    "            HDim(years, 'Year', DIRECTLY, LEFT),\n",
    "            HDim(areas, 'Area', CLOSEST,ABOVE),\n",
    "            HDim(sub_areas, 'Sub area', CLOSEST,ABOVE),\n",
    "            HDim(countries, 'Country', CLOSEST,ABOVE),\n",
    "            HDimConst('Investment Direction', 'inward'),\n",
    "            HDim(components,'FDI Component', DIRECTLY, ABOVE),\n",
    "            HDimConst('SIC Industry', 'all-activities'),\n",
    "            HDimConst('International Trade Basis', 'BPM5')\n",
    "        ]\n",
    "    )\n",
    "    # savepreviewhtml(cs)\n",
    "    t_by_area = cs.topandas()    \n",
    "    \n",
    "    def user_perc(x,y,z):\n",
    "\n",
    "        if x.strip() == '':\n",
    "            if (y == '') | (y == None) | (y == ' '):\n",
    "                return z\n",
    "            else :\n",
    "                return y\n",
    "        else:\n",
    "            return x\n",
    "\n",
    "    t_by_area['ONS FDI Area'] = 'fdi/' + t_by_area.apply(lambda row: user_perc(row['Country'],row['Sub area'],row['Area']), axis = 1)\n",
    "    t_by_area['ONS FDI Area'] = t_by_area['ONS FDI Area'].str.strip()\n",
    "    t_by_area.drop(columns=['DATAMARKER','Area', 'Sub area','Country'], inplace=True)\n",
    "    t_by_area.rename(columns={'OBS': 'Value'}, inplace=True)\n",
    "\n",
    "    t_by_area.replace('', pd.np.nan, inplace=True)\n",
    "    t_by_area.dropna(subset=['Value'], inplace=True)\n",
    "\n",
    "    t_by_area[['Value', 'Year']] = t_by_area[['Value', 'Year']].astype(float).astype(int)\n",
    "\n",
    "    table = pd.concat([table, t_by_area])"
   ]
  },
  {
   "cell_type": "code",
   "execution_count": 6,
   "metadata": {
    "collapsed": true
   },
   "outputs": [],
   "source": [
    "sr = ['2.3','3.3','4.3']"
   ]
  },
  {
   "cell_type": "code",
   "execution_count": 7,
   "metadata": {
    "collapsed": true
   },
   "outputs": [],
   "source": [
    "fc = ['total-net-fdi-uk','total-net-fdi-position-uk','total-net-fdi-earnings-uk']"
   ]
  },
  {
   "cell_type": "code",
   "execution_count": 8,
   "metadata": {},
   "outputs": [
    {
     "name": "stdout",
     "output_type": "stream",
     "text": [
      "\n"
     ]
    },
    {
     "name": "stderr",
     "output_type": "stream",
     "text": [
      "C:\\ProgramData\\Anaconda3\\lib\\site-packages\\ipykernel_launcher.py:49: FutureWarning: Sorting because non-concatenation axis is not aligned. A future version\n",
      "of pandas will change to not sort by default.\n",
      "\n",
      "To accept the future behavior, pass 'sort=False'.\n",
      "\n",
      "To retain the current behavior and silence the warning, pass 'sort=True'.\n",
      "\n"
     ]
    },
    {
     "name": "stdout",
     "output_type": "stream",
     "text": [
      "\n",
      "\n"
     ]
    }
   ],
   "source": [
    "i = 0\n",
    "for sh_id in sr:\n",
    "    by_area = sheets[sh_id]\n",
    "    years = by_area.excel_ref('E6').expand(DOWN).is_not_blank().is_not_whitespace()\n",
    "    areas = by_area.excel_ref('A6').expand(DOWN).is_not_blank()\n",
    "    sub_areas = by_area.excel_ref('B6').expand(DOWN).is_not_blank().filter(lambda c: c.value.strip() != 'of which')\n",
    "    countries = by_area.excel_ref('C').expand(DOWN).by_index([7,11,15,19,23,27,31,35,39,43,47,51,55,59,63,67,71,75,79,83,87,\n",
    "                                                            91,95,99,103,107,111,115,119,123,127,131,135,139,143,147,151,155,159,\n",
    "                                                             163,167,171,175,179,183,187,191,195,199,203,207,211,215,219,223,227])\n",
    "    components = by_area.excel_ref('F5').expand(RIGHT).is_not_blank().is_not_whitespace()\n",
    "    obs = by_area.excel_ref('F6').expand(DOWN).expand(RIGHT).is_not_blank().is_not_whitespace()\n",
    "    cs = ConversionSegment(\n",
    "        obs, [\n",
    "            HDim(years, 'Year', DIRECTLY, LEFT),\n",
    "            HDim(areas, 'Area', CLOSEST,ABOVE),\n",
    "            HDim(sub_areas, 'Sub area', CLOSEST,ABOVE),\n",
    "            HDim(countries, 'Country', CLOSEST,ABOVE),\n",
    "            HDimConst('Investment Direction', 'inward'),\n",
    "            HDim(components,'SIC Industry', DIRECTLY, ABOVE),\n",
    "            HDimConst('International Trade Basis', 'BPM5')\n",
    "        ]\n",
    "    )\n",
    "    # savepreviewhtml(cs)\n",
    "    t_by_area = cs.topandas()\n",
    "\n",
    "\n",
    "    def user_perc(x,y,z):\n",
    "\n",
    "        if (x == '') | (x == ' ') | (x == None) :\n",
    "            if (y == '') | (y == None) | (y == ' '):\n",
    "                return z\n",
    "            else :\n",
    "                return y\n",
    "        else:\n",
    "            return x\n",
    "\n",
    "    t_by_area['ONS FDI Area'] = 'fdi/' + t_by_area.apply(lambda row: user_perc(row['Country'],row['Sub area'],row['Area']), axis = 1)\n",
    "    t_by_area['ONS FDI Area'] = t_by_area['ONS FDI Area'].str.strip()\n",
    "    t_by_area.drop(columns=['DATAMARKER','Area', 'Sub area','Country'], inplace=True)\n",
    "    t_by_area.rename(columns={'OBS': 'Value'}, inplace=True)\n",
    "\n",
    "    t_by_area.replace('', pd.np.nan, inplace=True)\n",
    "    t_by_area.dropna(subset=['Value'], inplace=True)\n",
    "\n",
    "    t_by_area[['Value', 'Year']] = t_by_area[['Value', 'Year']].astype(float).astype(int)\n",
    "    t_by_area['FDI Component'] = fc[i]\n",
    "    i = i + 1\n",
    "\n",
    "    table = pd.concat([table, t_by_area])"
   ]
  },
  {
   "cell_type": "code",
   "execution_count": 9,
   "metadata": {
    "collapsed": true
   },
   "outputs": [],
   "source": [
    "st = ['2.1','3.1','4.1']"
   ]
  },
  {
   "cell_type": "code",
   "execution_count": 10,
   "metadata": {
    "collapsed": true
   },
   "outputs": [],
   "source": [
    "fc = ['total-net-fdi-uk','total-net-fdi-position-uk','total-net-fdi-earnings-uk']"
   ]
  },
  {
   "cell_type": "code",
   "execution_count": 11,
   "metadata": {},
   "outputs": [
    {
     "name": "stdout",
     "output_type": "stream",
     "text": [
      "\n"
     ]
    },
    {
     "name": "stderr",
     "output_type": "stream",
     "text": [
      "C:\\ProgramData\\Anaconda3\\lib\\site-packages\\ipykernel_launcher.py:37: FutureWarning: Sorting because non-concatenation axis is not aligned. A future version\n",
      "of pandas will change to not sort by default.\n",
      "\n",
      "To accept the future behavior, pass 'sort=False'.\n",
      "\n",
      "To retain the current behavior and silence the warning, pass 'sort=True'.\n",
      "\n"
     ]
    },
    {
     "name": "stdout",
     "output_type": "stream",
     "text": [
      "\n",
      "\n"
     ]
    }
   ],
   "source": [
    "i = 0\n",
    "for sh_id in st:\n",
    "    by_area = sheets[sh_id]\n",
    "    years = by_area.excel_ref('A5').expand(RIGHT).is_not_blank().is_not_whitespace()\n",
    "    areas = by_area.excel_ref('A5').expand(DOWN).is_not_blank()\n",
    "    sub_areas = by_area.excel_ref('B5').expand(DOWN).is_not_blank().filter(lambda c: c.value.strip() != 'of which')\n",
    "    countries = by_area.excel_ref('C5').expand(DOWN).is_not_blank().is_not_whitespace()\n",
    "    obs = years.fill(DOWN)\n",
    "    obs = obs & (sub_areas | areas | countries).expand(RIGHT)\n",
    "    cs = ConversionSegment(\n",
    "        obs, [\n",
    "            HDim(years, 'Year', DIRECTLY, ABOVE),\n",
    "            HDim(areas, 'Area', DIRECTLY, LEFT),\n",
    "            HDim(sub_areas, 'Sub area', DIRECTLY, LEFT),\n",
    "            HDim(countries, 'Country', DIRECTLY, LEFT),\n",
    "            HDimConst('Investment Direction', 'inward'),\n",
    "            HDimConst('SIC Industry', 'all-activities'),\n",
    "            HDimConst('International Trade Basis', 'BPM5')\n",
    "        ]\n",
    "    )\n",
    "    # savepreviewhtml(cs)\n",
    "    t_by_area = cs.topandas()\n",
    "    t_by_area['ONS FDI Area'] = t_by_area.apply(\n",
    "        lambda row: ''.join(\n",
    "            [s.strip() for s in [row['Area'], row['Sub area'], row['Country']] if s != None]), axis=1)\n",
    "    t_by_area['ONS FDI Area'] = 'fdi/' + t_by_area['ONS FDI Area']\n",
    "    t_by_area.drop(columns=['DATAMARKER','Area', 'Sub area','Country'], inplace=True)\n",
    "    t_by_area.rename(columns={'OBS': 'Value'}, inplace=True)\n",
    "\n",
    "    t_by_area.replace('', pd.np.nan, inplace=True)\n",
    "    t_by_area.dropna(subset=['Value'], inplace=True)\n",
    "\n",
    "    t_by_area[['Value', 'Year']] = t_by_area[['Value', 'Year']].astype(float).astype(int)\n",
    "    t_by_area['FDI Component'] = fc[i]\n",
    "    i = i + 1\n",
    "\n",
    "    table = pd.concat([table, t_by_area])"
   ]
  },
  {
   "cell_type": "code",
   "execution_count": 12,
   "metadata": {
    "collapsed": true
   },
   "outputs": [],
   "source": [
    "table['International Trade Basis'] = ['BPM6' if x>=2012 else 'BPM5' for x in table['Year']]"
   ]
  },
  {
   "cell_type": "code",
   "execution_count": 13,
   "metadata": {
    "collapsed": true
   },
   "outputs": [],
   "source": [
    "table['ONS FDI Area'] = table['ONS FDI Area'].str.lower()"
   ]
  },
  {
   "cell_type": "code",
   "execution_count": 14,
   "metadata": {
    "collapsed": true
   },
   "outputs": [],
   "source": [
    "table['SIC Industry'] = table['SIC Industry'].map(\n",
    "    lambda x: {\n",
    "        'Total' : 'all-activities'\n",
    "        }.get(x, x))"
   ]
  },
  {
   "cell_type": "code",
   "execution_count": 15,
   "metadata": {
    "collapsed": true
   },
   "outputs": [],
   "source": [
    "table['FDI Component'] = table['FDI Component'].map(\n",
    "    lambda x: {\n",
    "        \"Foreign companies' share of UK companies' net profits\" : \"Foreign parent companies' share of UK companies' net profits\"\n",
    "        }.get(x, x))"
   ]
  },
  {
   "cell_type": "code",
   "execution_count": 16,
   "metadata": {
    "collapsed": true
   },
   "outputs": [],
   "source": [
    "table['ONS FDI Area'] = table['ONS FDI Area'].map(\n",
    "    lambda x: {\n",
    "        'fdi/other european' : 'fdi/other european countries',\n",
    "        'fdi/countries' : 'fdi/other european countries',\n",
    "        'fdi/uk offshore' : 'fdi/uk offshore islands',\n",
    "        'fdi/near & middle east' : 'fdi/near & middle east countries',\n",
    "        'fdi/other asian' : 'fdi/other asian countries',\n",
    "        'fdi/central &' : 'fdi/central & eastern europe',\n",
    "        'fdi/eastern' : 'fdi/central & eastern europe',\n",
    "        'fdi/other' : 'fdi/other european countries',\n",
    "        'fdi/european' : 'fdi/other european countries',\n",
    "        'fdi/islands' : 'fdi/uk offshore islands',\n",
    "        'fdi/near & middle' : 'fdi/near & middle east countries',\n",
    "        'fdi/east countries' : 'fdi/near & middle east countries',\n",
    "        'fdi/gulf arabian' : 'fdi/gulf arabian countries'\n",
    "        }.get(x, x))"
   ]
  },
  {
   "cell_type": "code",
   "execution_count": 17,
   "metadata": {
    "collapsed": true
   },
   "outputs": [],
   "source": [
    "table.drop_duplicates(inplace = True)"
   ]
  }
 ],
 "metadata": {
  "kernelspec": {
   "display_name": "Python 3",
   "language": "python",
   "name": "python3"
  },
  "language_info": {
   "codemirror_mode": {
    "name": "ipython",
    "version": 3
   },
   "file_extension": ".py",
   "mimetype": "text/x-python",
   "name": "python",
   "nbconvert_exporter": "python",
   "pygments_lexer": "ipython3",
   "version": "3.6.3"
  }
 },
 "nbformat": 4,
 "nbformat_minor": 2
}
