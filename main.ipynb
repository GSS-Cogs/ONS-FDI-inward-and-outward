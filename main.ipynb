{
 "cells": [
  {
   "cell_type": "code",
   "execution_count": 1,
   "metadata": {},
   "outputs": [
    {
     "name": "stderr",
     "output_type": "stream",
     "text": [
      "WARNING:Unexpected \"next release\" field: ('Unknown string format:', 'To be announced')\n",
      "WARNING:Unexpected \"next release\" field: ('Unknown string format:', 'To be announced')\n"
     ]
    },
    {
     "data": {
      "text/markdown": [
       "## Foreign direct investment involving UK companies: inward\n",
       "\n",
       "Annual statistics on the investment of foreign companies into the UK, including for investment flows, positions and earnings.\n",
       "\n",
       "### Distributions\n",
       "\n",
       "1. Foreign direct investment involving UK companies: inward ([MS Excel Spreadsheet](https://www.ons.gov.uk/file?uri=/businessindustryandtrade/business/businessinnovation/datasets/foreigndirectinvestmentinvolvingukcompanies2013inwardtables/current/annualforeigndirectinvestment2017inward.xls))\n"
      ],
      "text/plain": [
       "<gssutils.scrape.Scraper at 0x7fcccd2c0198>"
      ]
     },
     "metadata": {},
     "output_type": "display_data"
    },
    {
     "data": {
      "text/markdown": [
       "## Foreign direct investment involving UK companies: outward\n",
       "\n",
       "Annual statistics on the investment of UK companies abroad, including for investment flows, positions and earnings.\n",
       "\n",
       "### Distributions\n",
       "\n",
       "1. Foreign direct investment involving UK companies: outward ([MS Excel Spreadsheet](https://www.ons.gov.uk/file?uri=/businessindustryandtrade/business/businessinnovation/datasets/foreigndirectinvestmentinvolvingukcompaniesoutwardtables/current/annualforeigndirectinvestment2017outward.xls))\n"
      ],
      "text/plain": [
       "<gssutils.scrape.Scraper at 0x7fcccd2c01d0>"
      ]
     },
     "metadata": {},
     "output_type": "display_data"
    }
   ],
   "source": [
    "from gssutils import *\n",
    "\n",
    "inward_scraper = Scraper('https://www.ons.gov.uk/businessindustryandtrade/business/businessinnovation/datasets/' \\\n",
    "                  'foreigndirectinvestmentinvolvingukcompanies2013inwardtables')\n",
    "outward_scraper = Scraper('https://www.ons.gov.uk/businessindustryandtrade/business/businessinnovation/datasets/' \\\n",
    "                  'foreigndirectinvestmentinvolvingukcompaniesoutwardtables')\n",
    "\n",
    "display(inward_scraper)\n",
    "display(outward_scraper)"
   ]
  },
  {
   "cell_type": "markdown",
   "metadata": {},
   "source": [
    "Collect together all tabs in one list of `((tab name, direction), tab)`"
   ]
  },
  {
   "cell_type": "code",
   "execution_count": 2,
   "metadata": {},
   "outputs": [
    {
     "name": "stdout",
     "output_type": "stream",
     "text": [
      "[('Contents', 'inward'), ('1.1', 'inward'), ('1.2', 'inward'), ('1.3', 'inward'), ('2.1', 'inward'), ('2.2', 'inward'), ('2.3', 'inward'), ('3.1', 'inward'), ('3.2', 'inward'), ('3.3', 'inward'), ('4.1', 'inward'), ('4.2', 'inward'), ('4.3', 'inward'), ('Geography', 'inward'), ('SIC', 'inward'), ('Contents', 'outward'), ('1.1', 'outward'), ('1.2', 'outward'), ('1.3', 'outward'), ('2.1', 'outward'), ('2.2', 'outward'), ('2.3', 'outward'), ('3.1', 'outward'), ('3.2', 'outward'), ('3.3', 'outward'), ('4.1', 'outward'), ('4.2', 'outward'), ('4.3', 'outward'), ('Geography', 'outward'), ('SIC', 'outward')]\n"
     ]
    }
   ],
   "source": [
    "sheets = {\n",
    "    ** {(sheet.name.strip(), 'inward'): sheet for sheet in inward_scraper.distribution().as_databaker()},\n",
    "    ** {(sheet.name.strip(), 'outward'): sheet for sheet in outward_scraper.distribution().as_databaker()}\n",
    "}\n",
    "print(list(sheets.keys()))"
   ]
  },
  {
   "cell_type": "markdown",
   "metadata": {},
   "source": [
    "A common issue is where a dimension label is split over more than one cell.\n",
    "The following function does a rudimentary search for these splits in a bag, returns a list of\n",
    "pairs of cells and their replacement, along with a list of extraneous cells to remove\n",
    "from the bag."
   ]
  },
  {
   "cell_type": "code",
   "execution_count": 3,
   "metadata": {},
   "outputs": [],
   "source": [
    "def split_overrides(bag, splits):\n",
    "    overrides = []\n",
    "    to_remove = None\n",
    "    for split in splits:\n",
    "        for cell in bag:\n",
    "            c = cell\n",
    "            found = True\n",
    "            remove_list = []\n",
    "            for s in split:\n",
    "                if c.value.strip() != s:\n",
    "                    found = False\n",
    "                    break\n",
    "                try:\n",
    "                    c = c.shift(DOWN)\n",
    "                except:\n",
    "                    found = False\n",
    "                    break\n",
    "                remove_list.append(c)\n",
    "            if found:\n",
    "                overrides.append((cell, ' '.join(split)))\n",
    "                for c in remove_list:\n",
    "                    if to_remove is None:\n",
    "                        to_remove = c\n",
    "                    else:\n",
    "                        to_remove = to_remove | c\n",
    "    return (overrides, to_remove)"
   ]
  },
  {
   "cell_type": "code",
   "execution_count": 4,
   "metadata": {
    "scrolled": true
   },
   "outputs": [
    {
     "data": {
      "text/plain": [
       "'Processing tab 2.1: inward'"
      ]
     },
     "metadata": {},
     "output_type": "display_data"
    },
    {
     "name": "stdout",
     "output_type": "stream",
     "text": [
      "\n"
     ]
    },
    {
     "data": {
      "text/plain": [
       "'Processing tab 2.2: inward'"
      ]
     },
     "metadata": {},
     "output_type": "display_data"
    },
    {
     "name": "stdout",
     "output_type": "stream",
     "text": [
      "\n"
     ]
    },
    {
     "data": {
      "text/plain": [
       "'Processing tab 2.3: inward'"
      ]
     },
     "metadata": {},
     "output_type": "display_data"
    },
    {
     "name": "stdout",
     "output_type": "stream",
     "text": [
      "\n"
     ]
    },
    {
     "data": {
      "text/plain": [
       "'Processing tab 3.1: inward'"
      ]
     },
     "metadata": {},
     "output_type": "display_data"
    },
    {
     "name": "stdout",
     "output_type": "stream",
     "text": [
      "\n"
     ]
    },
    {
     "data": {
      "text/plain": [
       "'Processing tab 3.2: inward'"
      ]
     },
     "metadata": {},
     "output_type": "display_data"
    },
    {
     "name": "stdout",
     "output_type": "stream",
     "text": [
      "\n"
     ]
    },
    {
     "data": {
      "text/plain": [
       "'Processing tab 3.3: inward'"
      ]
     },
     "metadata": {},
     "output_type": "display_data"
    },
    {
     "name": "stdout",
     "output_type": "stream",
     "text": [
      "\n"
     ]
    },
    {
     "data": {
      "text/plain": [
       "'Processing tab 4.1: inward'"
      ]
     },
     "metadata": {},
     "output_type": "display_data"
    },
    {
     "name": "stdout",
     "output_type": "stream",
     "text": [
      "\n"
     ]
    },
    {
     "data": {
      "text/plain": [
       "'Processing tab 4.2: inward'"
      ]
     },
     "metadata": {},
     "output_type": "display_data"
    },
    {
     "name": "stdout",
     "output_type": "stream",
     "text": [
      "\n"
     ]
    },
    {
     "data": {
      "text/plain": [
       "'Processing tab 4.3: inward'"
      ]
     },
     "metadata": {},
     "output_type": "display_data"
    },
    {
     "name": "stdout",
     "output_type": "stream",
     "text": [
      "\n"
     ]
    },
    {
     "data": {
      "text/plain": [
       "'Processing tab 2.1: outward'"
      ]
     },
     "metadata": {},
     "output_type": "display_data"
    },
    {
     "name": "stdout",
     "output_type": "stream",
     "text": [
      "\n"
     ]
    },
    {
     "data": {
      "text/plain": [
       "'Processing tab 2.2: outward'"
      ]
     },
     "metadata": {},
     "output_type": "display_data"
    },
    {
     "name": "stdout",
     "output_type": "stream",
     "text": [
      "\n"
     ]
    },
    {
     "data": {
      "text/plain": [
       "'Processing tab 2.3: outward'"
      ]
     },
     "metadata": {},
     "output_type": "display_data"
    },
    {
     "name": "stdout",
     "output_type": "stream",
     "text": [
      "\n"
     ]
    },
    {
     "data": {
      "text/plain": [
       "'Processing tab 3.1: outward'"
      ]
     },
     "metadata": {},
     "output_type": "display_data"
    },
    {
     "name": "stdout",
     "output_type": "stream",
     "text": [
      "\n"
     ]
    },
    {
     "data": {
      "text/plain": [
       "'Processing tab 3.2: outward'"
      ]
     },
     "metadata": {},
     "output_type": "display_data"
    },
    {
     "name": "stdout",
     "output_type": "stream",
     "text": [
      "\n"
     ]
    },
    {
     "data": {
      "text/plain": [
       "'Processing tab 3.3: outward'"
      ]
     },
     "metadata": {},
     "output_type": "display_data"
    },
    {
     "name": "stdout",
     "output_type": "stream",
     "text": [
      "\n"
     ]
    },
    {
     "data": {
      "text/plain": [
       "'Processing tab 4.1: outward'"
      ]
     },
     "metadata": {},
     "output_type": "display_data"
    },
    {
     "name": "stdout",
     "output_type": "stream",
     "text": [
      "\n"
     ]
    },
    {
     "data": {
      "text/plain": [
       "'Processing tab 4.2: outward'"
      ]
     },
     "metadata": {},
     "output_type": "display_data"
    },
    {
     "name": "stdout",
     "output_type": "stream",
     "text": [
      "\n"
     ]
    },
    {
     "data": {
      "text/plain": [
       "'Processing tab 4.3: outward'"
      ]
     },
     "metadata": {},
     "output_type": "display_data"
    },
    {
     "name": "stdout",
     "output_type": "stream",
     "text": [
      "\n"
     ]
    },
    {
     "data": {
      "text/html": [
       "<div>\n",
       "<style scoped>\n",
       "    .dataframe tbody tr th:only-of-type {\n",
       "        vertical-align: middle;\n",
       "    }\n",
       "\n",
       "    .dataframe tbody tr th {\n",
       "        vertical-align: top;\n",
       "    }\n",
       "\n",
       "    .dataframe thead th {\n",
       "        text-align: right;\n",
       "    }\n",
       "</style>\n",
       "<table border=\"1\" class=\"dataframe\">\n",
       "  <thead>\n",
       "    <tr style=\"text-align: right;\">\n",
       "      <th></th>\n",
       "      <th>Value</th>\n",
       "      <th>Year</th>\n",
       "      <th>ONS FDI Area</th>\n",
       "      <th>__x</th>\n",
       "      <th>__y</th>\n",
       "      <th>__tablename</th>\n",
       "      <th>FDI Component</th>\n",
       "      <th>SIC Industry</th>\n",
       "      <th>International Trade Basis</th>\n",
       "      <th>Investment Direction</th>\n",
       "    </tr>\n",
       "  </thead>\n",
       "  <tbody>\n",
       "    <tr>\n",
       "      <th>0</th>\n",
       "      <td>22115</td>\n",
       "      <td>2008</td>\n",
       "      <td>fdi/europe</td>\n",
       "      <td>3</td>\n",
       "      <td>7</td>\n",
       "      <td>2.1</td>\n",
       "      <td>total-net-fdi-in-the-uk</td>\n",
       "      <td>all-activities</td>\n",
       "      <td>BPM5</td>\n",
       "      <td>inward</td>\n",
       "    </tr>\n",
       "    <tr>\n",
       "      <th>1</th>\n",
       "      <td>22584</td>\n",
       "      <td>2009</td>\n",
       "      <td>fdi/europe</td>\n",
       "      <td>4</td>\n",
       "      <td>7</td>\n",
       "      <td>2.1</td>\n",
       "      <td>total-net-fdi-in-the-uk</td>\n",
       "      <td>all-activities</td>\n",
       "      <td>BPM5</td>\n",
       "      <td>inward</td>\n",
       "    </tr>\n",
       "    <tr>\n",
       "      <th>2</th>\n",
       "      <td>8957</td>\n",
       "      <td>2010</td>\n",
       "      <td>fdi/europe</td>\n",
       "      <td>5</td>\n",
       "      <td>7</td>\n",
       "      <td>2.1</td>\n",
       "      <td>total-net-fdi-in-the-uk</td>\n",
       "      <td>all-activities</td>\n",
       "      <td>BPM5</td>\n",
       "      <td>inward</td>\n",
       "    </tr>\n",
       "    <tr>\n",
       "      <th>3</th>\n",
       "      <td>-28258</td>\n",
       "      <td>2011</td>\n",
       "      <td>fdi/europe</td>\n",
       "      <td>6</td>\n",
       "      <td>7</td>\n",
       "      <td>2.1</td>\n",
       "      <td>total-net-fdi-in-the-uk</td>\n",
       "      <td>all-activities</td>\n",
       "      <td>BPM5</td>\n",
       "      <td>inward</td>\n",
       "    </tr>\n",
       "    <tr>\n",
       "      <th>4</th>\n",
       "      <td>22830</td>\n",
       "      <td>2012</td>\n",
       "      <td>fdi/europe</td>\n",
       "      <td>7</td>\n",
       "      <td>7</td>\n",
       "      <td>2.1</td>\n",
       "      <td>total-net-fdi-in-the-uk</td>\n",
       "      <td>all-activities</td>\n",
       "      <td>BPM6</td>\n",
       "      <td>inward</td>\n",
       "    </tr>\n",
       "    <tr>\n",
       "      <th>5</th>\n",
       "      <td>9456</td>\n",
       "      <td>2013</td>\n",
       "      <td>fdi/europe</td>\n",
       "      <td>8</td>\n",
       "      <td>7</td>\n",
       "      <td>2.1</td>\n",
       "      <td>total-net-fdi-in-the-uk</td>\n",
       "      <td>all-activities</td>\n",
       "      <td>BPM6</td>\n",
       "      <td>inward</td>\n",
       "    </tr>\n",
       "    <tr>\n",
       "      <th>6</th>\n",
       "      <td>-8</td>\n",
       "      <td>2014</td>\n",
       "      <td>fdi/europe</td>\n",
       "      <td>9</td>\n",
       "      <td>7</td>\n",
       "      <td>2.1</td>\n",
       "      <td>total-net-fdi-in-the-uk</td>\n",
       "      <td>all-activities</td>\n",
       "      <td>BPM6</td>\n",
       "      <td>inward</td>\n",
       "    </tr>\n",
       "    <tr>\n",
       "      <th>7</th>\n",
       "      <td>-12305</td>\n",
       "      <td>2015</td>\n",
       "      <td>fdi/europe</td>\n",
       "      <td>10</td>\n",
       "      <td>7</td>\n",
       "      <td>2.1</td>\n",
       "      <td>total-net-fdi-in-the-uk</td>\n",
       "      <td>all-activities</td>\n",
       "      <td>BPM6</td>\n",
       "      <td>inward</td>\n",
       "    </tr>\n",
       "    <tr>\n",
       "      <th>8</th>\n",
       "      <td>135463</td>\n",
       "      <td>2016</td>\n",
       "      <td>fdi/europe</td>\n",
       "      <td>11</td>\n",
       "      <td>7</td>\n",
       "      <td>2.1</td>\n",
       "      <td>total-net-fdi-in-the-uk</td>\n",
       "      <td>all-activities</td>\n",
       "      <td>BPM6</td>\n",
       "      <td>inward</td>\n",
       "    </tr>\n",
       "    <tr>\n",
       "      <th>9</th>\n",
       "      <td>36203</td>\n",
       "      <td>2017</td>\n",
       "      <td>fdi/europe</td>\n",
       "      <td>12</td>\n",
       "      <td>7</td>\n",
       "      <td>2.1</td>\n",
       "      <td>total-net-fdi-in-the-uk</td>\n",
       "      <td>all-activities</td>\n",
       "      <td>BPM6</td>\n",
       "      <td>inward</td>\n",
       "    </tr>\n",
       "    <tr>\n",
       "      <th>10</th>\n",
       "      <td>21267</td>\n",
       "      <td>2008</td>\n",
       "      <td>fdi/eu</td>\n",
       "      <td>3</td>\n",
       "      <td>8</td>\n",
       "      <td>2.1</td>\n",
       "      <td>total-net-fdi-in-the-uk</td>\n",
       "      <td>all-activities</td>\n",
       "      <td>BPM5</td>\n",
       "      <td>inward</td>\n",
       "    </tr>\n",
       "    <tr>\n",
       "      <th>11</th>\n",
       "      <td>15181</td>\n",
       "      <td>2009</td>\n",
       "      <td>fdi/eu</td>\n",
       "      <td>4</td>\n",
       "      <td>8</td>\n",
       "      <td>2.1</td>\n",
       "      <td>total-net-fdi-in-the-uk</td>\n",
       "      <td>all-activities</td>\n",
       "      <td>BPM5</td>\n",
       "      <td>inward</td>\n",
       "    </tr>\n",
       "    <tr>\n",
       "      <th>12</th>\n",
       "      <td>-922</td>\n",
       "      <td>2010</td>\n",
       "      <td>fdi/eu</td>\n",
       "      <td>5</td>\n",
       "      <td>8</td>\n",
       "      <td>2.1</td>\n",
       "      <td>total-net-fdi-in-the-uk</td>\n",
       "      <td>all-activities</td>\n",
       "      <td>BPM5</td>\n",
       "      <td>inward</td>\n",
       "    </tr>\n",
       "    <tr>\n",
       "      <th>13</th>\n",
       "      <td>-23682</td>\n",
       "      <td>2011</td>\n",
       "      <td>fdi/eu</td>\n",
       "      <td>6</td>\n",
       "      <td>8</td>\n",
       "      <td>2.1</td>\n",
       "      <td>total-net-fdi-in-the-uk</td>\n",
       "      <td>all-activities</td>\n",
       "      <td>BPM5</td>\n",
       "      <td>inward</td>\n",
       "    </tr>\n",
       "    <tr>\n",
       "      <th>14</th>\n",
       "      <td>15381</td>\n",
       "      <td>2012</td>\n",
       "      <td>fdi/eu</td>\n",
       "      <td>7</td>\n",
       "      <td>8</td>\n",
       "      <td>2.1</td>\n",
       "      <td>total-net-fdi-in-the-uk</td>\n",
       "      <td>all-activities</td>\n",
       "      <td>BPM6</td>\n",
       "      <td>inward</td>\n",
       "    </tr>\n",
       "    <tr>\n",
       "      <th>15</th>\n",
       "      <td>-466</td>\n",
       "      <td>2013</td>\n",
       "      <td>fdi/eu</td>\n",
       "      <td>8</td>\n",
       "      <td>8</td>\n",
       "      <td>2.1</td>\n",
       "      <td>total-net-fdi-in-the-uk</td>\n",
       "      <td>all-activities</td>\n",
       "      <td>BPM6</td>\n",
       "      <td>inward</td>\n",
       "    </tr>\n",
       "    <tr>\n",
       "      <th>16</th>\n",
       "      <td>2911</td>\n",
       "      <td>2014</td>\n",
       "      <td>fdi/eu</td>\n",
       "      <td>9</td>\n",
       "      <td>8</td>\n",
       "      <td>2.1</td>\n",
       "      <td>total-net-fdi-in-the-uk</td>\n",
       "      <td>all-activities</td>\n",
       "      <td>BPM6</td>\n",
       "      <td>inward</td>\n",
       "    </tr>\n",
       "    <tr>\n",
       "      <th>17</th>\n",
       "      <td>-13807</td>\n",
       "      <td>2015</td>\n",
       "      <td>fdi/eu</td>\n",
       "      <td>10</td>\n",
       "      <td>8</td>\n",
       "      <td>2.1</td>\n",
       "      <td>total-net-fdi-in-the-uk</td>\n",
       "      <td>all-activities</td>\n",
       "      <td>BPM6</td>\n",
       "      <td>inward</td>\n",
       "    </tr>\n",
       "    <tr>\n",
       "      <th>18</th>\n",
       "      <td>129768</td>\n",
       "      <td>2016</td>\n",
       "      <td>fdi/eu</td>\n",
       "      <td>11</td>\n",
       "      <td>8</td>\n",
       "      <td>2.1</td>\n",
       "      <td>total-net-fdi-in-the-uk</td>\n",
       "      <td>all-activities</td>\n",
       "      <td>BPM6</td>\n",
       "      <td>inward</td>\n",
       "    </tr>\n",
       "    <tr>\n",
       "      <th>19</th>\n",
       "      <td>24291</td>\n",
       "      <td>2017</td>\n",
       "      <td>fdi/eu</td>\n",
       "      <td>12</td>\n",
       "      <td>8</td>\n",
       "      <td>2.1</td>\n",
       "      <td>total-net-fdi-in-the-uk</td>\n",
       "      <td>all-activities</td>\n",
       "      <td>BPM6</td>\n",
       "      <td>inward</td>\n",
       "    </tr>\n",
       "    <tr>\n",
       "      <th>20</th>\n",
       "      <td>75</td>\n",
       "      <td>2008</td>\n",
       "      <td>fdi/austria</td>\n",
       "      <td>3</td>\n",
       "      <td>9</td>\n",
       "      <td>2.1</td>\n",
       "      <td>total-net-fdi-in-the-uk</td>\n",
       "      <td>all-activities</td>\n",
       "      <td>BPM5</td>\n",
       "      <td>inward</td>\n",
       "    </tr>\n",
       "    <tr>\n",
       "      <th>21</th>\n",
       "      <td>89</td>\n",
       "      <td>2009</td>\n",
       "      <td>fdi/austria</td>\n",
       "      <td>4</td>\n",
       "      <td>9</td>\n",
       "      <td>2.1</td>\n",
       "      <td>total-net-fdi-in-the-uk</td>\n",
       "      <td>all-activities</td>\n",
       "      <td>BPM5</td>\n",
       "      <td>inward</td>\n",
       "    </tr>\n",
       "    <tr>\n",
       "      <th>22</th>\n",
       "      <td>170</td>\n",
       "      <td>2010</td>\n",
       "      <td>fdi/austria</td>\n",
       "      <td>5</td>\n",
       "      <td>9</td>\n",
       "      <td>2.1</td>\n",
       "      <td>total-net-fdi-in-the-uk</td>\n",
       "      <td>all-activities</td>\n",
       "      <td>BPM5</td>\n",
       "      <td>inward</td>\n",
       "    </tr>\n",
       "    <tr>\n",
       "      <th>23</th>\n",
       "      <td>876</td>\n",
       "      <td>2011</td>\n",
       "      <td>fdi/austria</td>\n",
       "      <td>6</td>\n",
       "      <td>9</td>\n",
       "      <td>2.1</td>\n",
       "      <td>total-net-fdi-in-the-uk</td>\n",
       "      <td>all-activities</td>\n",
       "      <td>BPM5</td>\n",
       "      <td>inward</td>\n",
       "    </tr>\n",
       "    <tr>\n",
       "      <th>24</th>\n",
       "      <td>-74</td>\n",
       "      <td>2012</td>\n",
       "      <td>fdi/austria</td>\n",
       "      <td>7</td>\n",
       "      <td>9</td>\n",
       "      <td>2.1</td>\n",
       "      <td>total-net-fdi-in-the-uk</td>\n",
       "      <td>all-activities</td>\n",
       "      <td>BPM6</td>\n",
       "      <td>inward</td>\n",
       "    </tr>\n",
       "    <tr>\n",
       "      <th>25</th>\n",
       "      <td>21</td>\n",
       "      <td>2013</td>\n",
       "      <td>fdi/austria</td>\n",
       "      <td>8</td>\n",
       "      <td>9</td>\n",
       "      <td>2.1</td>\n",
       "      <td>total-net-fdi-in-the-uk</td>\n",
       "      <td>all-activities</td>\n",
       "      <td>BPM6</td>\n",
       "      <td>inward</td>\n",
       "    </tr>\n",
       "    <tr>\n",
       "      <th>26</th>\n",
       "      <td>-87</td>\n",
       "      <td>2014</td>\n",
       "      <td>fdi/austria</td>\n",
       "      <td>9</td>\n",
       "      <td>9</td>\n",
       "      <td>2.1</td>\n",
       "      <td>total-net-fdi-in-the-uk</td>\n",
       "      <td>all-activities</td>\n",
       "      <td>BPM6</td>\n",
       "      <td>inward</td>\n",
       "    </tr>\n",
       "    <tr>\n",
       "      <th>27</th>\n",
       "      <td>32</td>\n",
       "      <td>2015</td>\n",
       "      <td>fdi/austria</td>\n",
       "      <td>10</td>\n",
       "      <td>9</td>\n",
       "      <td>2.1</td>\n",
       "      <td>total-net-fdi-in-the-uk</td>\n",
       "      <td>all-activities</td>\n",
       "      <td>BPM6</td>\n",
       "      <td>inward</td>\n",
       "    </tr>\n",
       "    <tr>\n",
       "      <th>28</th>\n",
       "      <td>32</td>\n",
       "      <td>2016</td>\n",
       "      <td>fdi/austria</td>\n",
       "      <td>11</td>\n",
       "      <td>9</td>\n",
       "      <td>2.1</td>\n",
       "      <td>total-net-fdi-in-the-uk</td>\n",
       "      <td>all-activities</td>\n",
       "      <td>BPM6</td>\n",
       "      <td>inward</td>\n",
       "    </tr>\n",
       "    <tr>\n",
       "      <th>29</th>\n",
       "      <td>-40</td>\n",
       "      <td>2017</td>\n",
       "      <td>fdi/austria</td>\n",
       "      <td>12</td>\n",
       "      <td>9</td>\n",
       "      <td>2.1</td>\n",
       "      <td>total-net-fdi-in-the-uk</td>\n",
       "      <td>all-activities</td>\n",
       "      <td>BPM6</td>\n",
       "      <td>inward</td>\n",
       "    </tr>\n",
       "    <tr>\n",
       "      <th>...</th>\n",
       "      <td>...</td>\n",
       "      <td>...</td>\n",
       "      <td>...</td>\n",
       "      <td>...</td>\n",
       "      <td>...</td>\n",
       "      <td>...</td>\n",
       "      <td>...</td>\n",
       "      <td>...</td>\n",
       "      <td>...</td>\n",
       "      <td>...</td>\n",
       "    </tr>\n",
       "    <tr>\n",
       "      <th>5079</th>\n",
       "      <td>-21</td>\n",
       "      <td>2017</td>\n",
       "      <td>fdi/oecd</td>\n",
       "      <td>11</td>\n",
       "      <td>272</td>\n",
       "      <td>4.3</td>\n",
       "      <td>total-net-fdi-earnings-abroad</td>\n",
       "      <td>computer-electronic-and-optical-products</td>\n",
       "      <td>BPM6</td>\n",
       "      <td>outward</td>\n",
       "    </tr>\n",
       "    <tr>\n",
       "      <th>5080</th>\n",
       "      <td>1282</td>\n",
       "      <td>2017</td>\n",
       "      <td>fdi/oecd</td>\n",
       "      <td>12</td>\n",
       "      <td>272</td>\n",
       "      <td>4.3</td>\n",
       "      <td>total-net-fdi-earnings-abroad</td>\n",
       "      <td>transport-equipment</td>\n",
       "      <td>BPM6</td>\n",
       "      <td>outward</td>\n",
       "    </tr>\n",
       "    <tr>\n",
       "      <th>5081</th>\n",
       "      <td>506</td>\n",
       "      <td>2017</td>\n",
       "      <td>fdi/oecd</td>\n",
       "      <td>13</td>\n",
       "      <td>272</td>\n",
       "      <td>4.3</td>\n",
       "      <td>total-net-fdi-earnings-abroad</td>\n",
       "      <td>other-manufacturing</td>\n",
       "      <td>BPM6</td>\n",
       "      <td>outward</td>\n",
       "    </tr>\n",
       "    <tr>\n",
       "      <th>5082</th>\n",
       "      <td>1342</td>\n",
       "      <td>2017</td>\n",
       "      <td>fdi/oecd</td>\n",
       "      <td>14</td>\n",
       "      <td>272</td>\n",
       "      <td>4.3</td>\n",
       "      <td>total-net-fdi-earnings-abroad</td>\n",
       "      <td>electricity-gas-water-and-waste</td>\n",
       "      <td>BPM6</td>\n",
       "      <td>outward</td>\n",
       "    </tr>\n",
       "    <tr>\n",
       "      <th>5083</th>\n",
       "      <td>-4</td>\n",
       "      <td>2017</td>\n",
       "      <td>fdi/oecd</td>\n",
       "      <td>15</td>\n",
       "      <td>272</td>\n",
       "      <td>4.3</td>\n",
       "      <td>total-net-fdi-earnings-abroad</td>\n",
       "      <td>construction</td>\n",
       "      <td>BPM6</td>\n",
       "      <td>outward</td>\n",
       "    </tr>\n",
       "    <tr>\n",
       "      <th>5084</th>\n",
       "      <td>2089</td>\n",
       "      <td>2017</td>\n",
       "      <td>fdi/oecd</td>\n",
       "      <td>16</td>\n",
       "      <td>272</td>\n",
       "      <td>4.3</td>\n",
       "      <td>total-net-fdi-earnings-abroad</td>\n",
       "      <td>retails-wholesale-trade-repair-of-motor-vehicl...</td>\n",
       "      <td>BPM6</td>\n",
       "      <td>outward</td>\n",
       "    </tr>\n",
       "    <tr>\n",
       "      <th>5085</th>\n",
       "      <td>545</td>\n",
       "      <td>2017</td>\n",
       "      <td>fdi/oecd</td>\n",
       "      <td>17</td>\n",
       "      <td>272</td>\n",
       "      <td>4.3</td>\n",
       "      <td>total-net-fdi-earnings-abroad</td>\n",
       "      <td>transportation-storage</td>\n",
       "      <td>BPM6</td>\n",
       "      <td>outward</td>\n",
       "    </tr>\n",
       "    <tr>\n",
       "      <th>5086</th>\n",
       "      <td>4839</td>\n",
       "      <td>2017</td>\n",
       "      <td>fdi/oecd</td>\n",
       "      <td>18</td>\n",
       "      <td>272</td>\n",
       "      <td>4.3</td>\n",
       "      <td>total-net-fdi-earnings-abroad</td>\n",
       "      <td>information-and-communication</td>\n",
       "      <td>BPM6</td>\n",
       "      <td>outward</td>\n",
       "    </tr>\n",
       "    <tr>\n",
       "      <th>5087</th>\n",
       "      <td>10438</td>\n",
       "      <td>2017</td>\n",
       "      <td>fdi/oecd</td>\n",
       "      <td>19</td>\n",
       "      <td>272</td>\n",
       "      <td>4.3</td>\n",
       "      <td>total-net-fdi-earnings-abroad</td>\n",
       "      <td>financial-services</td>\n",
       "      <td>BPM6</td>\n",
       "      <td>outward</td>\n",
       "    </tr>\n",
       "    <tr>\n",
       "      <th>5088</th>\n",
       "      <td>2182</td>\n",
       "      <td>2017</td>\n",
       "      <td>fdi/oecd</td>\n",
       "      <td>20</td>\n",
       "      <td>272</td>\n",
       "      <td>4.3</td>\n",
       "      <td>total-net-fdi-earnings-abroad</td>\n",
       "      <td>professional-scientific-technical-services</td>\n",
       "      <td>BPM6</td>\n",
       "      <td>outward</td>\n",
       "    </tr>\n",
       "    <tr>\n",
       "      <th>5089</th>\n",
       "      <td>737</td>\n",
       "      <td>2017</td>\n",
       "      <td>fdi/oecd</td>\n",
       "      <td>21</td>\n",
       "      <td>272</td>\n",
       "      <td>4.3</td>\n",
       "      <td>total-net-fdi-earnings-abroad</td>\n",
       "      <td>administrative-and-support-service-activities</td>\n",
       "      <td>BPM6</td>\n",
       "      <td>outward</td>\n",
       "    </tr>\n",
       "    <tr>\n",
       "      <th>5090</th>\n",
       "      <td>4753</td>\n",
       "      <td>2017</td>\n",
       "      <td>fdi/oecd</td>\n",
       "      <td>22</td>\n",
       "      <td>272</td>\n",
       "      <td>4.3</td>\n",
       "      <td>total-net-fdi-earnings-abroad</td>\n",
       "      <td>other-services</td>\n",
       "      <td>BPM6</td>\n",
       "      <td>outward</td>\n",
       "    </tr>\n",
       "    <tr>\n",
       "      <th>5091</th>\n",
       "      <td>56308</td>\n",
       "      <td>2017</td>\n",
       "      <td>fdi/oecd</td>\n",
       "      <td>23</td>\n",
       "      <td>272</td>\n",
       "      <td>4.3</td>\n",
       "      <td>total-net-fdi-earnings-abroad</td>\n",
       "      <td>all-activities</td>\n",
       "      <td>BPM6</td>\n",
       "      <td>outward</td>\n",
       "    </tr>\n",
       "    <tr>\n",
       "      <th>5103</th>\n",
       "      <td>1</td>\n",
       "      <td>2014</td>\n",
       "      <td>fdi/central-eastern-europe</td>\n",
       "      <td>16</td>\n",
       "      <td>273</td>\n",
       "      <td>4.3</td>\n",
       "      <td>total-net-fdi-earnings-abroad</td>\n",
       "      <td>retails-wholesale-trade-repair-of-motor-vehicl...</td>\n",
       "      <td>BPM6</td>\n",
       "      <td>outward</td>\n",
       "    </tr>\n",
       "    <tr>\n",
       "      <th>5105</th>\n",
       "      <td>-1</td>\n",
       "      <td>2014</td>\n",
       "      <td>fdi/central-eastern-europe</td>\n",
       "      <td>18</td>\n",
       "      <td>273</td>\n",
       "      <td>4.3</td>\n",
       "      <td>total-net-fdi-earnings-abroad</td>\n",
       "      <td>information-and-communication</td>\n",
       "      <td>BPM6</td>\n",
       "      <td>outward</td>\n",
       "    </tr>\n",
       "    <tr>\n",
       "      <th>5107</th>\n",
       "      <td>2</td>\n",
       "      <td>2014</td>\n",
       "      <td>fdi/central-eastern-europe</td>\n",
       "      <td>20</td>\n",
       "      <td>273</td>\n",
       "      <td>4.3</td>\n",
       "      <td>total-net-fdi-earnings-abroad</td>\n",
       "      <td>professional-scientific-technical-services</td>\n",
       "      <td>BPM6</td>\n",
       "      <td>outward</td>\n",
       "    </tr>\n",
       "    <tr>\n",
       "      <th>5108</th>\n",
       "      <td>1</td>\n",
       "      <td>2014</td>\n",
       "      <td>fdi/central-eastern-europe</td>\n",
       "      <td>21</td>\n",
       "      <td>273</td>\n",
       "      <td>4.3</td>\n",
       "      <td>total-net-fdi-earnings-abroad</td>\n",
       "      <td>administrative-and-support-service-activities</td>\n",
       "      <td>BPM6</td>\n",
       "      <td>outward</td>\n",
       "    </tr>\n",
       "    <tr>\n",
       "      <th>5109</th>\n",
       "      <td>1</td>\n",
       "      <td>2014</td>\n",
       "      <td>fdi/central-eastern-europe</td>\n",
       "      <td>22</td>\n",
       "      <td>273</td>\n",
       "      <td>4.3</td>\n",
       "      <td>total-net-fdi-earnings-abroad</td>\n",
       "      <td>other-services</td>\n",
       "      <td>BPM6</td>\n",
       "      <td>outward</td>\n",
       "    </tr>\n",
       "    <tr>\n",
       "      <th>5110</th>\n",
       "      <td>-6</td>\n",
       "      <td>2014</td>\n",
       "      <td>fdi/central-eastern-europe</td>\n",
       "      <td>23</td>\n",
       "      <td>273</td>\n",
       "      <td>4.3</td>\n",
       "      <td>total-net-fdi-earnings-abroad</td>\n",
       "      <td>all-activities</td>\n",
       "      <td>BPM6</td>\n",
       "      <td>outward</td>\n",
       "    </tr>\n",
       "    <tr>\n",
       "      <th>5116</th>\n",
       "      <td>2</td>\n",
       "      <td>2015</td>\n",
       "      <td>fdi/central-eastern-europe</td>\n",
       "      <td>10</td>\n",
       "      <td>274</td>\n",
       "      <td>4.3</td>\n",
       "      <td>total-net-fdi-earnings-abroad</td>\n",
       "      <td>metal-and-machinery-products</td>\n",
       "      <td>BPM6</td>\n",
       "      <td>outward</td>\n",
       "    </tr>\n",
       "    <tr>\n",
       "      <th>5127</th>\n",
       "      <td>-1</td>\n",
       "      <td>2015</td>\n",
       "      <td>fdi/central-eastern-europe</td>\n",
       "      <td>21</td>\n",
       "      <td>274</td>\n",
       "      <td>4.3</td>\n",
       "      <td>total-net-fdi-earnings-abroad</td>\n",
       "      <td>administrative-and-support-service-activities</td>\n",
       "      <td>BPM6</td>\n",
       "      <td>outward</td>\n",
       "    </tr>\n",
       "    <tr>\n",
       "      <th>5141</th>\n",
       "      <td>1</td>\n",
       "      <td>2016</td>\n",
       "      <td>fdi/central-eastern-europe</td>\n",
       "      <td>16</td>\n",
       "      <td>275</td>\n",
       "      <td>4.3</td>\n",
       "      <td>total-net-fdi-earnings-abroad</td>\n",
       "      <td>retails-wholesale-trade-repair-of-motor-vehicl...</td>\n",
       "      <td>BPM6</td>\n",
       "      <td>outward</td>\n",
       "    </tr>\n",
       "    <tr>\n",
       "      <th>5143</th>\n",
       "      <td>1</td>\n",
       "      <td>2016</td>\n",
       "      <td>fdi/central-eastern-europe</td>\n",
       "      <td>18</td>\n",
       "      <td>275</td>\n",
       "      <td>4.3</td>\n",
       "      <td>total-net-fdi-earnings-abroad</td>\n",
       "      <td>information-and-communication</td>\n",
       "      <td>BPM6</td>\n",
       "      <td>outward</td>\n",
       "    </tr>\n",
       "    <tr>\n",
       "      <th>5144</th>\n",
       "      <td>2</td>\n",
       "      <td>2016</td>\n",
       "      <td>fdi/central-eastern-europe</td>\n",
       "      <td>19</td>\n",
       "      <td>275</td>\n",
       "      <td>4.3</td>\n",
       "      <td>total-net-fdi-earnings-abroad</td>\n",
       "      <td>financial-services</td>\n",
       "      <td>BPM6</td>\n",
       "      <td>outward</td>\n",
       "    </tr>\n",
       "    <tr>\n",
       "      <th>5147</th>\n",
       "      <td>1</td>\n",
       "      <td>2016</td>\n",
       "      <td>fdi/central-eastern-europe</td>\n",
       "      <td>22</td>\n",
       "      <td>275</td>\n",
       "      <td>4.3</td>\n",
       "      <td>total-net-fdi-earnings-abroad</td>\n",
       "      <td>other-services</td>\n",
       "      <td>BPM6</td>\n",
       "      <td>outward</td>\n",
       "    </tr>\n",
       "    <tr>\n",
       "      <th>5160</th>\n",
       "      <td>1</td>\n",
       "      <td>2017</td>\n",
       "      <td>fdi/central-eastern-europe</td>\n",
       "      <td>16</td>\n",
       "      <td>276</td>\n",
       "      <td>4.3</td>\n",
       "      <td>total-net-fdi-earnings-abroad</td>\n",
       "      <td>retails-wholesale-trade-repair-of-motor-vehicl...</td>\n",
       "      <td>BPM6</td>\n",
       "      <td>outward</td>\n",
       "    </tr>\n",
       "    <tr>\n",
       "      <th>5161</th>\n",
       "      <td>2</td>\n",
       "      <td>2017</td>\n",
       "      <td>fdi/central-eastern-europe</td>\n",
       "      <td>17</td>\n",
       "      <td>276</td>\n",
       "      <td>4.3</td>\n",
       "      <td>total-net-fdi-earnings-abroad</td>\n",
       "      <td>transportation-storage</td>\n",
       "      <td>BPM6</td>\n",
       "      <td>outward</td>\n",
       "    </tr>\n",
       "    <tr>\n",
       "      <th>5163</th>\n",
       "      <td>1</td>\n",
       "      <td>2017</td>\n",
       "      <td>fdi/central-eastern-europe</td>\n",
       "      <td>19</td>\n",
       "      <td>276</td>\n",
       "      <td>4.3</td>\n",
       "      <td>total-net-fdi-earnings-abroad</td>\n",
       "      <td>financial-services</td>\n",
       "      <td>BPM6</td>\n",
       "      <td>outward</td>\n",
       "    </tr>\n",
       "    <tr>\n",
       "      <th>5166</th>\n",
       "      <td>-1</td>\n",
       "      <td>2017</td>\n",
       "      <td>fdi/central-eastern-europe</td>\n",
       "      <td>22</td>\n",
       "      <td>276</td>\n",
       "      <td>4.3</td>\n",
       "      <td>total-net-fdi-earnings-abroad</td>\n",
       "      <td>other-services</td>\n",
       "      <td>BPM6</td>\n",
       "      <td>outward</td>\n",
       "    </tr>\n",
       "    <tr>\n",
       "      <th>5167</th>\n",
       "      <td>78</td>\n",
       "      <td>2017</td>\n",
       "      <td>fdi/central-eastern-europe</td>\n",
       "      <td>23</td>\n",
       "      <td>276</td>\n",
       "      <td>4.3</td>\n",
       "      <td>total-net-fdi-earnings-abroad</td>\n",
       "      <td>all-activities</td>\n",
       "      <td>BPM6</td>\n",
       "      <td>outward</td>\n",
       "    </tr>\n",
       "  </tbody>\n",
       "</table>\n",
       "<p>23037 rows × 10 columns</p>\n",
       "</div>"
      ],
      "text/plain": [
       "       Value  Year                ONS FDI Area  __x  __y __tablename  \\\n",
       "0      22115  2008                  fdi/europe    3    7         2.1   \n",
       "1      22584  2009                  fdi/europe    4    7         2.1   \n",
       "2       8957  2010                  fdi/europe    5    7         2.1   \n",
       "3     -28258  2011                  fdi/europe    6    7         2.1   \n",
       "4      22830  2012                  fdi/europe    7    7         2.1   \n",
       "5       9456  2013                  fdi/europe    8    7         2.1   \n",
       "6         -8  2014                  fdi/europe    9    7         2.1   \n",
       "7     -12305  2015                  fdi/europe   10    7         2.1   \n",
       "8     135463  2016                  fdi/europe   11    7         2.1   \n",
       "9      36203  2017                  fdi/europe   12    7         2.1   \n",
       "10     21267  2008                      fdi/eu    3    8         2.1   \n",
       "11     15181  2009                      fdi/eu    4    8         2.1   \n",
       "12      -922  2010                      fdi/eu    5    8         2.1   \n",
       "13    -23682  2011                      fdi/eu    6    8         2.1   \n",
       "14     15381  2012                      fdi/eu    7    8         2.1   \n",
       "15      -466  2013                      fdi/eu    8    8         2.1   \n",
       "16      2911  2014                      fdi/eu    9    8         2.1   \n",
       "17    -13807  2015                      fdi/eu   10    8         2.1   \n",
       "18    129768  2016                      fdi/eu   11    8         2.1   \n",
       "19     24291  2017                      fdi/eu   12    8         2.1   \n",
       "20        75  2008                 fdi/austria    3    9         2.1   \n",
       "21        89  2009                 fdi/austria    4    9         2.1   \n",
       "22       170  2010                 fdi/austria    5    9         2.1   \n",
       "23       876  2011                 fdi/austria    6    9         2.1   \n",
       "24       -74  2012                 fdi/austria    7    9         2.1   \n",
       "25        21  2013                 fdi/austria    8    9         2.1   \n",
       "26       -87  2014                 fdi/austria    9    9         2.1   \n",
       "27        32  2015                 fdi/austria   10    9         2.1   \n",
       "28        32  2016                 fdi/austria   11    9         2.1   \n",
       "29       -40  2017                 fdi/austria   12    9         2.1   \n",
       "...      ...   ...                         ...  ...  ...         ...   \n",
       "5079     -21  2017                    fdi/oecd   11  272         4.3   \n",
       "5080    1282  2017                    fdi/oecd   12  272         4.3   \n",
       "5081     506  2017                    fdi/oecd   13  272         4.3   \n",
       "5082    1342  2017                    fdi/oecd   14  272         4.3   \n",
       "5083      -4  2017                    fdi/oecd   15  272         4.3   \n",
       "5084    2089  2017                    fdi/oecd   16  272         4.3   \n",
       "5085     545  2017                    fdi/oecd   17  272         4.3   \n",
       "5086    4839  2017                    fdi/oecd   18  272         4.3   \n",
       "5087   10438  2017                    fdi/oecd   19  272         4.3   \n",
       "5088    2182  2017                    fdi/oecd   20  272         4.3   \n",
       "5089     737  2017                    fdi/oecd   21  272         4.3   \n",
       "5090    4753  2017                    fdi/oecd   22  272         4.3   \n",
       "5091   56308  2017                    fdi/oecd   23  272         4.3   \n",
       "5103       1  2014  fdi/central-eastern-europe   16  273         4.3   \n",
       "5105      -1  2014  fdi/central-eastern-europe   18  273         4.3   \n",
       "5107       2  2014  fdi/central-eastern-europe   20  273         4.3   \n",
       "5108       1  2014  fdi/central-eastern-europe   21  273         4.3   \n",
       "5109       1  2014  fdi/central-eastern-europe   22  273         4.3   \n",
       "5110      -6  2014  fdi/central-eastern-europe   23  273         4.3   \n",
       "5116       2  2015  fdi/central-eastern-europe   10  274         4.3   \n",
       "5127      -1  2015  fdi/central-eastern-europe   21  274         4.3   \n",
       "5141       1  2016  fdi/central-eastern-europe   16  275         4.3   \n",
       "5143       1  2016  fdi/central-eastern-europe   18  275         4.3   \n",
       "5144       2  2016  fdi/central-eastern-europe   19  275         4.3   \n",
       "5147       1  2016  fdi/central-eastern-europe   22  275         4.3   \n",
       "5160       1  2017  fdi/central-eastern-europe   16  276         4.3   \n",
       "5161       2  2017  fdi/central-eastern-europe   17  276         4.3   \n",
       "5163       1  2017  fdi/central-eastern-europe   19  276         4.3   \n",
       "5166      -1  2017  fdi/central-eastern-europe   22  276         4.3   \n",
       "5167      78  2017  fdi/central-eastern-europe   23  276         4.3   \n",
       "\n",
       "                      FDI Component  \\\n",
       "0           total-net-fdi-in-the-uk   \n",
       "1           total-net-fdi-in-the-uk   \n",
       "2           total-net-fdi-in-the-uk   \n",
       "3           total-net-fdi-in-the-uk   \n",
       "4           total-net-fdi-in-the-uk   \n",
       "5           total-net-fdi-in-the-uk   \n",
       "6           total-net-fdi-in-the-uk   \n",
       "7           total-net-fdi-in-the-uk   \n",
       "8           total-net-fdi-in-the-uk   \n",
       "9           total-net-fdi-in-the-uk   \n",
       "10          total-net-fdi-in-the-uk   \n",
       "11          total-net-fdi-in-the-uk   \n",
       "12          total-net-fdi-in-the-uk   \n",
       "13          total-net-fdi-in-the-uk   \n",
       "14          total-net-fdi-in-the-uk   \n",
       "15          total-net-fdi-in-the-uk   \n",
       "16          total-net-fdi-in-the-uk   \n",
       "17          total-net-fdi-in-the-uk   \n",
       "18          total-net-fdi-in-the-uk   \n",
       "19          total-net-fdi-in-the-uk   \n",
       "20          total-net-fdi-in-the-uk   \n",
       "21          total-net-fdi-in-the-uk   \n",
       "22          total-net-fdi-in-the-uk   \n",
       "23          total-net-fdi-in-the-uk   \n",
       "24          total-net-fdi-in-the-uk   \n",
       "25          total-net-fdi-in-the-uk   \n",
       "26          total-net-fdi-in-the-uk   \n",
       "27          total-net-fdi-in-the-uk   \n",
       "28          total-net-fdi-in-the-uk   \n",
       "29          total-net-fdi-in-the-uk   \n",
       "...                             ...   \n",
       "5079  total-net-fdi-earnings-abroad   \n",
       "5080  total-net-fdi-earnings-abroad   \n",
       "5081  total-net-fdi-earnings-abroad   \n",
       "5082  total-net-fdi-earnings-abroad   \n",
       "5083  total-net-fdi-earnings-abroad   \n",
       "5084  total-net-fdi-earnings-abroad   \n",
       "5085  total-net-fdi-earnings-abroad   \n",
       "5086  total-net-fdi-earnings-abroad   \n",
       "5087  total-net-fdi-earnings-abroad   \n",
       "5088  total-net-fdi-earnings-abroad   \n",
       "5089  total-net-fdi-earnings-abroad   \n",
       "5090  total-net-fdi-earnings-abroad   \n",
       "5091  total-net-fdi-earnings-abroad   \n",
       "5103  total-net-fdi-earnings-abroad   \n",
       "5105  total-net-fdi-earnings-abroad   \n",
       "5107  total-net-fdi-earnings-abroad   \n",
       "5108  total-net-fdi-earnings-abroad   \n",
       "5109  total-net-fdi-earnings-abroad   \n",
       "5110  total-net-fdi-earnings-abroad   \n",
       "5116  total-net-fdi-earnings-abroad   \n",
       "5127  total-net-fdi-earnings-abroad   \n",
       "5141  total-net-fdi-earnings-abroad   \n",
       "5143  total-net-fdi-earnings-abroad   \n",
       "5144  total-net-fdi-earnings-abroad   \n",
       "5147  total-net-fdi-earnings-abroad   \n",
       "5160  total-net-fdi-earnings-abroad   \n",
       "5161  total-net-fdi-earnings-abroad   \n",
       "5163  total-net-fdi-earnings-abroad   \n",
       "5166  total-net-fdi-earnings-abroad   \n",
       "5167  total-net-fdi-earnings-abroad   \n",
       "\n",
       "                                           SIC Industry  \\\n",
       "0                                        all-activities   \n",
       "1                                        all-activities   \n",
       "2                                        all-activities   \n",
       "3                                        all-activities   \n",
       "4                                        all-activities   \n",
       "5                                        all-activities   \n",
       "6                                        all-activities   \n",
       "7                                        all-activities   \n",
       "8                                        all-activities   \n",
       "9                                        all-activities   \n",
       "10                                       all-activities   \n",
       "11                                       all-activities   \n",
       "12                                       all-activities   \n",
       "13                                       all-activities   \n",
       "14                                       all-activities   \n",
       "15                                       all-activities   \n",
       "16                                       all-activities   \n",
       "17                                       all-activities   \n",
       "18                                       all-activities   \n",
       "19                                       all-activities   \n",
       "20                                       all-activities   \n",
       "21                                       all-activities   \n",
       "22                                       all-activities   \n",
       "23                                       all-activities   \n",
       "24                                       all-activities   \n",
       "25                                       all-activities   \n",
       "26                                       all-activities   \n",
       "27                                       all-activities   \n",
       "28                                       all-activities   \n",
       "29                                       all-activities   \n",
       "...                                                 ...   \n",
       "5079           computer-electronic-and-optical-products   \n",
       "5080                                transport-equipment   \n",
       "5081                                other-manufacturing   \n",
       "5082                    electricity-gas-water-and-waste   \n",
       "5083                                       construction   \n",
       "5084  retails-wholesale-trade-repair-of-motor-vehicl...   \n",
       "5085                             transportation-storage   \n",
       "5086                      information-and-communication   \n",
       "5087                                 financial-services   \n",
       "5088         professional-scientific-technical-services   \n",
       "5089      administrative-and-support-service-activities   \n",
       "5090                                     other-services   \n",
       "5091                                     all-activities   \n",
       "5103  retails-wholesale-trade-repair-of-motor-vehicl...   \n",
       "5105                      information-and-communication   \n",
       "5107         professional-scientific-technical-services   \n",
       "5108      administrative-and-support-service-activities   \n",
       "5109                                     other-services   \n",
       "5110                                     all-activities   \n",
       "5116                       metal-and-machinery-products   \n",
       "5127      administrative-and-support-service-activities   \n",
       "5141  retails-wholesale-trade-repair-of-motor-vehicl...   \n",
       "5143                      information-and-communication   \n",
       "5144                                 financial-services   \n",
       "5147                                     other-services   \n",
       "5160  retails-wholesale-trade-repair-of-motor-vehicl...   \n",
       "5161                             transportation-storage   \n",
       "5163                                 financial-services   \n",
       "5166                                     other-services   \n",
       "5167                                     all-activities   \n",
       "\n",
       "     International Trade Basis Investment Direction  \n",
       "0                         BPM5               inward  \n",
       "1                         BPM5               inward  \n",
       "2                         BPM5               inward  \n",
       "3                         BPM5               inward  \n",
       "4                         BPM6               inward  \n",
       "5                         BPM6               inward  \n",
       "6                         BPM6               inward  \n",
       "7                         BPM6               inward  \n",
       "8                         BPM6               inward  \n",
       "9                         BPM6               inward  \n",
       "10                        BPM5               inward  \n",
       "11                        BPM5               inward  \n",
       "12                        BPM5               inward  \n",
       "13                        BPM5               inward  \n",
       "14                        BPM6               inward  \n",
       "15                        BPM6               inward  \n",
       "16                        BPM6               inward  \n",
       "17                        BPM6               inward  \n",
       "18                        BPM6               inward  \n",
       "19                        BPM6               inward  \n",
       "20                        BPM5               inward  \n",
       "21                        BPM5               inward  \n",
       "22                        BPM5               inward  \n",
       "23                        BPM5               inward  \n",
       "24                        BPM6               inward  \n",
       "25                        BPM6               inward  \n",
       "26                        BPM6               inward  \n",
       "27                        BPM6               inward  \n",
       "28                        BPM6               inward  \n",
       "29                        BPM6               inward  \n",
       "...                        ...                  ...  \n",
       "5079                      BPM6              outward  \n",
       "5080                      BPM6              outward  \n",
       "5081                      BPM6              outward  \n",
       "5082                      BPM6              outward  \n",
       "5083                      BPM6              outward  \n",
       "5084                      BPM6              outward  \n",
       "5085                      BPM6              outward  \n",
       "5086                      BPM6              outward  \n",
       "5087                      BPM6              outward  \n",
       "5088                      BPM6              outward  \n",
       "5089                      BPM6              outward  \n",
       "5090                      BPM6              outward  \n",
       "5091                      BPM6              outward  \n",
       "5103                      BPM6              outward  \n",
       "5105                      BPM6              outward  \n",
       "5107                      BPM6              outward  \n",
       "5108                      BPM6              outward  \n",
       "5109                      BPM6              outward  \n",
       "5110                      BPM6              outward  \n",
       "5116                      BPM6              outward  \n",
       "5127                      BPM6              outward  \n",
       "5141                      BPM6              outward  \n",
       "5143                      BPM6              outward  \n",
       "5144                      BPM6              outward  \n",
       "5147                      BPM6              outward  \n",
       "5160                      BPM6              outward  \n",
       "5161                      BPM6              outward  \n",
       "5163                      BPM6              outward  \n",
       "5166                      BPM6              outward  \n",
       "5167                      BPM6              outward  \n",
       "\n",
       "[23037 rows x 10 columns]"
      ]
     },
     "execution_count": 4,
     "metadata": {},
     "output_type": "execute_result"
    }
   ],
   "source": [
    "tables = []\n",
    "for (name, direction), sheet in sheets.items():\n",
    "    if '.' not in name:\n",
    "        continue\n",
    "    major, minor = name.split('.')\n",
    "    if major not in ['2', '3', '4']:\n",
    "        continue\n",
    "    display(f'Processing tab {name}: {direction}')\n",
    "    dims = []\n",
    "    top_right = sheet.filter('£ million')\n",
    "    top_right.assert_one()\n",
    "    left_top = sheet.filter('EUROPE').by_index(1)\n",
    "    top_row = (left_top.fill(UP).fill(RIGHT) & top_right.expand(LEFT).fill(DOWN)).is_not_blank().is_not_whitespace()\n",
    "    dims.append(HDim(top_row, 'top', DIRECTLY, ABOVE))\n",
    "    bottom = sheet.filter('The sum of constituent items may not always agree exactly with the totals shown due to rounding.')\n",
    "    bottom.assert_one()\n",
    "    bottom_block = bottom.shift(UP).expand(RIGHT).expand(DOWN)\n",
    "    left_col = (left_top | left_top.shift(RIGHT) | left_top.shift(RIGHT) \\\n",
    "                .shift(RIGHT)).expand(DOWN).is_not_blank().is_not_whitespace() - bottom_block\n",
    "    left_col = left_col - left_col.filter('of which')\n",
    "    # fix up cells that have been split\n",
    "    overrides, to_remove = split_overrides(left_col, [\n",
    "        ('OTHER', 'EUROPEAN', 'COUNTRIES'),\n",
    "        ('OTHER EUROPEAN', 'COUNTRIES'),\n",
    "        ('UK OFFSHORE', 'ISLANDS'),\n",
    "        ('NEAR & MIDDLE EAST', 'COUNTRIES'),\n",
    "        ('NEAR & MIDDLE', 'EAST COUNTRIES'),\n",
    "        ('AUSTRALASIA &', 'OCEANIA'),\n",
    "        ('AUSTRALASIA', '& OCEANIA'),\n",
    "        ('CENTRAL & EASTERN', 'EUROPE'),\n",
    "        ('CENTRAL &', 'EASTERN', 'EUROPE'),\n",
    "        ('GULF ARABIAN', 'COUNTRIES'),\n",
    "        ('OTHER ASIAN', 'COUNTRIES')\n",
    "    ])\n",
    "    if to_remove:\n",
    "        left_col = left_col - to_remove\n",
    "    left_dim = HDim(left_col, 'ONS FDI Area', CLOSEST, UP)\n",
    "    for cell, replace in overrides:\n",
    "        left_dim.AddCellValueOverride(cell, replace)\n",
    "    # Also, \"IRELAND\" should be \"IRISH REPUBLIC\"\n",
    "    left_dim.AddCellValueOverride('IRELAND', 'IRISH REPUBLIC')\n",
    "    dims.append(left_dim)\n",
    "    if minor != '1':\n",
    "        year_col = left_top.fill(RIGHT).is_number().filter(lambda x: x.value > 1900).by_index(1).expand(DOWN).is_number() - bottom_block\n",
    "        dims.append(HDim(year_col, 'Year', DIRECTLY, LEFT))\n",
    "        obs = year_col.fill(RIGHT) & top_row.fill(DOWN)\n",
    "    else:\n",
    "        obs = left_col.fill(RIGHT) & top_row.fill(DOWN)\n",
    "    cs = ConversionSegment(obs, dims, includecellxy=True)\n",
    "    table = cs.topandas()\n",
    "    table.drop(table[table['DATAMARKER'].notna()].index, inplace=True)\n",
    "    table.drop(columns=['DATAMARKER'], inplace=True)\n",
    "    table.rename(columns={'OBS': 'Value'}, inplace=True)\n",
    "    table['ONS FDI Area'] = table['ONS FDI Area'].map(lambda x: 'fdi/' + pathify(x.strip()))\n",
    "    if minor == '1':\n",
    "        # top header row is year\n",
    "        table.rename(columns={'top': 'Year'}, inplace=True)\n",
    "    table['Year'] = table['Year'].map(lambda x: int(float(x)))\n",
    "    if minor != '2':\n",
    "        table['FDI Component'] = {\n",
    "            '2': {'outward': 'total-net-fdi-abroad',\n",
    "                  'inward': 'total-net-fdi-in-the-uk'},\n",
    "            '3': {'outward': 'total-net-fdi-international-investment-position-abroad-at-end-period',\n",
    "                  'inward': 'total-net-fdi-international-investment-position-in-the-uk-at-end-period'},\n",
    "            '4': {'outward': 'total-net-fdi-earnings-abroad',\n",
    "                  'inward': 'total-net-fdi-earnings-in-the-uk'}\n",
    "        }.get(major).get(direction)\n",
    "    else:\n",
    "        table.rename(columns={'top': 'FDI Component'}, inplace=True)\n",
    "        table['FDI Component'] = table['FDI Component'].map(pathify)\n",
    "    if minor == '3':\n",
    "        table.rename(columns={'top': 'SIC Industry'}, inplace=True)\n",
    "        table['SIC Industry'] = table['SIC Industry'].map(\n",
    "            lambda x: pathify(x) if x != 'Total' else 'all-activities'\n",
    "        )\n",
    "    else:\n",
    "        table['SIC Industry'] = 'all-activities'\n",
    "    # Disambiguate FDI Component between tabs 2.2 and 4.2\n",
    "    if name == '2.2':\n",
    "        table['FDI Component'] = table['FDI Component'].map(\n",
    "            lambda x: 'fdi-' + x if not x.startswith('total-net-foreign-direct-investment-') else\n",
    "            'total-net-fdi-' + x[len('total-net-foreign-direct-investment-'):]\n",
    "        )\n",
    "    elif name == '4.2':\n",
    "        table['FDI Component'] = table['FDI Component'].map(\n",
    "            lambda x: 'earnings-fdi-' + x if not x.startswith('total-net-') else\n",
    "            'total-net-' + x[len('total-net-'):].replace('foreign-direct-investment', 'fdi')\n",
    "        )\n",
    "    table['International Trade Basis'] = table['Year'].map(lambda year: 'BPM5' if year < 2012 else 'BPM6')\n",
    "    table['Investment Direction'] = direction\n",
    "    tables.append(table)\n",
    "\n",
    "observations = pd.concat(tables, sort=False)\n",
    "observations"
   ]
  },
  {
   "cell_type": "code",
   "execution_count": 5,
   "metadata": {},
   "outputs": [
    {
     "data": {
      "text/html": [
       "<h3>Year</h3"
      ],
      "text/plain": [
       "<IPython.core.display.HTML object>"
      ]
     },
     "metadata": {},
     "output_type": "display_data"
    },
    {
     "data": {
      "text/plain": [
       "Int64Index([2008, 2009, 2010, 2011, 2012, 2013, 2014, 2015, 2016, 2017], dtype='int64')"
      ]
     },
     "metadata": {},
     "output_type": "display_data"
    },
    {
     "data": {
      "text/html": [
       "<h3>ONS FDI Area</h3"
      ],
      "text/plain": [
       "<IPython.core.display.HTML object>"
      ]
     },
     "metadata": {},
     "output_type": "display_data"
    },
    {
     "data": {
      "text/plain": [
       "Index(['fdi/africa', 'fdi/asia', 'fdi/australasia-oceania', 'fdi/australia',\n",
       "       'fdi/austria', 'fdi/belgium', 'fdi/bermuda', 'fdi/brazil',\n",
       "       'fdi/bulgaria', 'fdi/canada', 'fdi/central-eastern-europe', 'fdi/chile',\n",
       "       'fdi/china', 'fdi/colombia', 'fdi/croatia', 'fdi/cyprus',\n",
       "       'fdi/czech-republic', 'fdi/denmark', 'fdi/efta', 'fdi/estonia',\n",
       "       'fdi/eu', 'fdi/europe', 'fdi/finland', 'fdi/france', 'fdi/germany',\n",
       "       'fdi/greece', 'fdi/gulf-arabian-countries', 'fdi/hong-kong',\n",
       "       'fdi/hungary', 'fdi/india', 'fdi/indonesia', 'fdi/irish-republic',\n",
       "       'fdi/italy', 'fdi/japan', 'fdi/kenya', 'fdi/latvia', 'fdi/lithuania',\n",
       "       'fdi/luxembourg', 'fdi/malaysia', 'fdi/malta', 'fdi/mexico',\n",
       "       'fdi/near-middle-east-countries', 'fdi/netherlands', 'fdi/new-zealand',\n",
       "       'fdi/nigeria', 'fdi/norway', 'fdi/oecd', 'fdi/other-asian-countries',\n",
       "       'fdi/other-european-countries', 'fdi/panama', 'fdi/poland',\n",
       "       'fdi/portugal', 'fdi/romania', 'fdi/russia', 'fdi/singapore',\n",
       "       'fdi/slovakia', 'fdi/slovenia', 'fdi/south-africa', 'fdi/south-korea',\n",
       "       'fdi/spain', 'fdi/sweden', 'fdi/switzerland', 'fdi/thailand',\n",
       "       'fdi/the-americas', 'fdi/uk-offshore-islands', 'fdi/usa',\n",
       "       'fdi/world-total', 'fdi/zimbabwe'],\n",
       "      dtype='object')"
      ]
     },
     "metadata": {},
     "output_type": "display_data"
    },
    {
     "data": {
      "text/html": [
       "<h3>__x</h3"
      ],
      "text/plain": [
       "<IPython.core.display.HTML object>"
      ]
     },
     "metadata": {},
     "output_type": "display_data"
    },
    {
     "data": {
      "text/plain": [
       "Int64Index([3, 4, 5, 6, 7, 8, 9, 10, 11, 12, 13, 14, 15, 16, 17, 18, 19, 20,\n",
       "            21, 22, 23],\n",
       "           dtype='int64')"
      ]
     },
     "metadata": {},
     "output_type": "display_data"
    },
    {
     "data": {
      "text/html": [
       "<h3>__y</h3"
      ],
      "text/plain": [
       "<IPython.core.display.HTML object>"
      ]
     },
     "metadata": {},
     "output_type": "display_data"
    },
    {
     "data": {
      "text/plain": [
       "Int64Index([  5,   6,   7,   8,   9,  10,  11,  12,  13,  14,\n",
       "            ...\n",
       "            268, 269, 270, 271, 272, 273, 274, 275, 276, 277],\n",
       "           dtype='int64', length=273)"
      ]
     },
     "metadata": {},
     "output_type": "display_data"
    },
    {
     "data": {
      "text/html": [
       "<h3>__tablename</h3"
      ],
      "text/plain": [
       "<IPython.core.display.HTML object>"
      ]
     },
     "metadata": {},
     "output_type": "display_data"
    },
    {
     "data": {
      "text/plain": [
       "Index(['2.1', '2.2', '2.3', '3.1', '3.2', '3.2 ', '3.3', '4.1', '4.1 ', '4.2',\n",
       "       '4.2 ', '4.3'],\n",
       "      dtype='object')"
      ]
     },
     "metadata": {},
     "output_type": "display_data"
    },
    {
     "data": {
      "text/html": [
       "<h3>FDI Component</h3"
      ],
      "text/plain": [
       "<IPython.core.display.HTML object>"
      ]
     },
     "metadata": {},
     "output_type": "display_data"
    },
    {
     "data": {
      "text/plain": [
       "Index(['amount-due-to-foreign-parent-companies-on-branch-head-office-account-at-end-period',\n",
       "       'amount-due-to-foreign-parent-companies-on-inter-company-account-at-end-period',\n",
       "       'amount-due-to-uk-parent-companies-on-branch-head-office-account-at-end-period',\n",
       "       'amount-due-to-uk-parent-companies-on-inter-company-account-at-end-period',\n",
       "       'earnings-fdi-foreign-companies-share-of-uk-companies-net-profits',\n",
       "       'earnings-fdi-net-interest-accrued-by-uk-companies',\n",
       "       'earnings-fdi-net-interest-accrued-to-foreign-parent-companies',\n",
       "       'earnings-fdi-net-profits',\n",
       "       'earnings-fdi-uk-companies-share-of-foreign-companies-net-profits',\n",
       "       'fdi-acquisition-of-foreign-companies-share-loan-capital',\n",
       "       'fdi-acquisition-of-uk-companies-share-loan-capital',\n",
       "       'fdi-disposal-of-foreign-companies-share-loan-capital',\n",
       "       'fdi-disposal-of-uk-companies-share-loan-capital',\n",
       "       'fdi-foreign-parent-companies-share-of-uk-companies-net-profits',\n",
       "       'fdi-increase-in-amounts-due-to-foreign-parents-on-branch-head-office-account',\n",
       "       'fdi-increase-in-amounts-due-to-foreign-parents-on-inter-company-account',\n",
       "       'fdi-increase-in-amounts-due-to-uk-parents-on-branch-head-office-account',\n",
       "       'fdi-increase-in-amounts-due-to-uk-parents-on-inter-company-account',\n",
       "       'fdi-less-dividends-paid-to-foreign-parent-companies',\n",
       "       'fdi-less-dividends-received-by-uk-companies',\n",
       "       'fdi-uk-companies-share-of-foreign-companies-net-profits',\n",
       "       'fdi-unremitted-profits-reinvested-earnings',\n",
       "       'foreign-companies-share-of-uk-companies-share-capital-and-reserves-at-end-period',\n",
       "       'total-net-fdi-abroad', 'total-net-fdi-earnings-abroad',\n",
       "       'total-net-fdi-earnings-in-the-uk', 'total-net-fdi-in-the-uk',\n",
       "       'total-net-fdi-international-investment-position-abroad-at-end-period',\n",
       "       'total-net-fdi-international-investment-position-in-the-uk-at-end-period',\n",
       "       'uk-companies-share-of-foreign-companies-share-capital-and-reserves-at-end-period'],\n",
       "      dtype='object')"
      ]
     },
     "metadata": {},
     "output_type": "display_data"
    },
    {
     "data": {
      "text/html": [
       "<h3>SIC Industry</h3"
      ],
      "text/plain": [
       "<IPython.core.display.HTML object>"
      ]
     },
     "metadata": {},
     "output_type": "display_data"
    },
    {
     "data": {
      "text/plain": [
       "Index(['administrative-and-support-service-activities',\n",
       "       'agriculture-forest-fishing', 'all-activities',\n",
       "       'computer-electronic-and-optical-products', 'construction',\n",
       "       'electricity-gas-water-and-waste', 'financial-services',\n",
       "       'food-products-beverages-tobacco-products',\n",
       "       'information-and-communication', 'metal-and-machinery-products',\n",
       "       'mining-quarrying', 'other-manufacturing', 'other-services',\n",
       "       'petroleum-chemicals-pharmaceuticals-rubber-plastic-products',\n",
       "       'professional-scientific-technical-services',\n",
       "       'retails-wholesale-trade-repair-of-motor-vehicles-motor-cycles',\n",
       "       'textiles-wood-activities', 'transport-equipment',\n",
       "       'transportation-storage'],\n",
       "      dtype='object')"
      ]
     },
     "metadata": {},
     "output_type": "display_data"
    },
    {
     "data": {
      "text/html": [
       "<h3>International Trade Basis</h3"
      ],
      "text/plain": [
       "<IPython.core.display.HTML object>"
      ]
     },
     "metadata": {},
     "output_type": "display_data"
    },
    {
     "data": {
      "text/plain": [
       "Index(['BPM5', 'BPM6'], dtype='object')"
      ]
     },
     "metadata": {},
     "output_type": "display_data"
    },
    {
     "data": {
      "text/html": [
       "<h3>Investment Direction</h3"
      ],
      "text/plain": [
       "<IPython.core.display.HTML object>"
      ]
     },
     "metadata": {},
     "output_type": "display_data"
    },
    {
     "data": {
      "text/plain": [
       "Index(['inward', 'outward'], dtype='object')"
      ]
     },
     "metadata": {},
     "output_type": "display_data"
    }
   ],
   "source": [
    "from IPython.core.display import HTML\n",
    "for col in observations:\n",
    "    if col != 'Value':\n",
    "        observations[col] = observations[col].astype('category')\n",
    "        display(HTML(f'<h3>{col}</h3'))\n",
    "        display(observations[col].cat.categories)"
   ]
  },
  {
   "cell_type": "code",
   "execution_count": 6,
   "metadata": {},
   "outputs": [],
   "source": [
    "observations['Unit'] = 'gbp-million'\n",
    "observations['Measure Type'] = 'GBP Total'\n",
    "observations = observations[['Investment Direction', 'Year', 'International Trade Basis',\n",
    "                             'ONS FDI Area', 'FDI Component', 'SIC Industry',\n",
    "                             'Value', 'Unit', 'Measure Type',\n",
    "                             '__x', '__y', '__tablename']]"
   ]
  },
  {
   "cell_type": "code",
   "execution_count": 7,
   "metadata": {},
   "outputs": [],
   "source": [
    "out = Path('out')\n",
    "out.mkdir(exist_ok=True, parents=True)\n",
    "\n",
    "observations.drop(columns=['__x', '__y', '__tablename']).drop_duplicates().to_csv(out / 'observations.csv', index=False)\n",
    "observations.drop_duplicates().to_csv(out / 'observations-annotated.csv', index=False)"
   ]
  },
  {
   "cell_type": "code",
   "execution_count": 8,
   "metadata": {},
   "outputs": [
    {
     "data": {
      "text/markdown": [
       "## Foreign direct investment involving UK companies: inward\n",
       "\n",
       "Annual statistics on the investment of foreign companies into the UK, including for investment flows, positions and earnings.\n",
       "\n",
       "### Distributions\n",
       "\n",
       "1. Foreign direct investment involving UK companies: inward ([MS Excel Spreadsheet](https://www.ons.gov.uk/file?uri=/businessindustryandtrade/business/businessinnovation/datasets/foreigndirectinvestmentinvolvingukcompanies2013inwardtables/current/annualforeigndirectinvestment2017inward.xls))\n"
      ],
      "text/plain": [
       "<gssutils.scrape.Scraper at 0x7fcccd2c0198>"
      ]
     },
     "metadata": {},
     "output_type": "display_data"
    },
    {
     "data": {
      "text/markdown": [
       "## Foreign direct investment involving UK companies: outward\n",
       "\n",
       "Annual statistics on the investment of UK companies abroad, including for investment flows, positions and earnings.\n",
       "\n",
       "### Distributions\n",
       "\n",
       "1. Foreign direct investment involving UK companies: outward ([MS Excel Spreadsheet](https://www.ons.gov.uk/file?uri=/businessindustryandtrade/business/businessinnovation/datasets/foreigndirectinvestmentinvolvingukcompaniesoutwardtables/current/annualforeigndirectinvestment2017outward.xls))\n"
      ],
      "text/plain": [
       "<gssutils.scrape.Scraper at 0x7fcccd2c01d0>"
      ]
     },
     "metadata": {},
     "output_type": "display_data"
    }
   ],
   "source": [
    "display(inward_scraper)\n",
    "display(outward_scraper)"
   ]
  },
  {
   "cell_type": "code",
   "execution_count": 9,
   "metadata": {},
   "outputs": [],
   "source": [
    "inward_scraper.dataset.title = inward_scraper.dataset.title.replace(': inward', '')\n",
    "inward_scraper.dataset.comment = inward_scraper.dataset.comment.replace(\n",
    "    'into the UK', 'into the UK and of UK companies abroad')\n",
    "\n",
    "from gssutils.metadata import THEME\n",
    "inward_scraper.dataset.theme = THEME['business-industry-trade-energy']\n",
    "inward_scraper.dataset.family = 'trade'\n",
    "\n",
    "with open(out / 'dataset.trig', 'wb') as metadata:\n",
    "    metadata.write(inward_scraper.generate_trig())"
   ]
  },
  {
   "cell_type": "code",
   "execution_count": null,
   "metadata": {},
   "outputs": [],
   "source": []
  }
 ],
 "metadata": {
  "kernelspec": {
   "display_name": "Python 3",
   "language": "python",
   "name": "python3"
  },
  "language_info": {
   "codemirror_mode": {
    "name": "ipython",
    "version": 3
   },
   "file_extension": ".py",
   "mimetype": "text/x-python",
   "name": "python",
   "nbconvert_exporter": "python",
   "pygments_lexer": "ipython3",
   "version": "3.7.2"
  }
 },
 "nbformat": 4,
 "nbformat_minor": 2
}
