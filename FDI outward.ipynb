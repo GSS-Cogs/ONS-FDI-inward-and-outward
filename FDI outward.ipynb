{
 "cells": [
  {
   "cell_type": "code",
   "execution_count": 1,
   "metadata": {},
   "outputs": [
    {
     "name": "stderr",
     "output_type": "stream",
     "text": [
      "WARNING:Unexpected \"next release\" field: Unknown string format\n"
     ]
    },
    {
     "data": {
      "text/markdown": [
       "## Foreign direct investment involving UK companies: outward\n",
       "\n",
       "Annual statistics on the investment of UK companies abroad, including for investment flows, positions and earnings.\n",
       "\n",
       "### Distributions\n",
       "\n",
       "1. Foreign direct investment involving UK companies: outward ([MS Excel Spreadsheet](https://www.ons.gov.uk/file?uri=/businessindustryandtrade/business/businessinnovation/datasets/foreigndirectinvestmentinvolvingukcompaniesoutwardtables/current/annualforeigndirectinvestment2017outward.xls))\n"
      ],
      "text/plain": [
       "<gssutils.scrape.Scraper at 0x148eb08e6d8>"
      ]
     },
     "execution_count": 1,
     "metadata": {},
     "output_type": "execute_result"
    }
   ],
   "source": [
    "from gssutils import *\n",
    "\n",
    "scraper = Scraper('https://www.ons.gov.uk/businessindustryandtrade/business/businessinnovation/datasets/' \\\n",
    "                  'foreigndirectinvestmentinvolvingukcompaniesoutwardtables')\n",
    "scraper"
   ]
  },
  {
   "cell_type": "code",
   "execution_count": 2,
   "metadata": {},
   "outputs": [
    {
     "data": {
      "text/plain": [
       "dict_keys(['Contents', '1.1', '1.2', '1.3', '2.1', '2.2', '2.3', '3.1', '3.2 ', '3.3', '4.1 ', '4.2 ', '4.3', 'Geography', 'SIC'])"
      ]
     },
     "execution_count": 2,
     "metadata": {},
     "output_type": "execute_result"
    }
   ],
   "source": [
    "sheets = {sheet.name: sheet for sheet in scraper.distribution().as_databaker()}\n",
    "sheets.keys()"
   ]
  },
  {
   "cell_type": "code",
   "execution_count": 3,
   "metadata": {
    "collapsed": true
   },
   "outputs": [],
   "source": [
    "table = pd.DataFrame()"
   ]
  },
  {
   "cell_type": "code",
   "execution_count": 4,
   "metadata": {},
   "outputs": [
    {
     "name": "stdout",
     "output_type": "stream",
     "text": [
      "\n"
     ]
    }
   ],
   "source": [
    "by_area = sheets['2.2']\n",
    "years = by_area.excel_ref('D6').expand(DOWN).is_not_blank().is_not_whitespace()\n",
    "areas = by_area.excel_ref('A7:C278').is_not_blank().is_not_whitespace() \n",
    "areas = areas.filter(lambda c: c.value.strip() != 'of which').filter(lambda c: c.value.strip() != 'EAST COUNTRIES')\n",
    "areas = areas.filter(lambda c: c.value.strip() != 'COUNTRIES').filter(lambda c: c.value.strip() != 'EASTERN')\n",
    "areas = areas - by_area.excel_ref('B276')\n",
    "components = by_area.excel_ref('E5:M6').expand(RIGHT).is_not_blank().is_not_whitespace()\n",
    "components = components - by_area.excel_ref('E5') - by_area.excel_ref('H5') - by_area.excel_ref('L5')                     \n",
    "obs = by_area.excel_ref('E7').expand(DOWN).expand(RIGHT).is_not_blank().is_not_whitespace() \n",
    "cs = ConversionSegment(\n",
    "    obs, [\n",
    "        HDim(years, 'Year', DIRECTLY, LEFT),\n",
    "        HDim(areas, 'Area', CLOSEST,ABOVE),\n",
    "        HDimConst('Investment Direction', 'outward'),\n",
    "        HDim(components,'Component', DIRECTLY, ABOVE),\n",
    "        HDimConst('Industry', 'All activities'),\n",
    "        HDimConst('International Trade Basis', 'BPM5')\n",
    "    ]\n",
    ")\n",
    "# savepreviewhtml(cs)\n",
    "t_by_area = cs.topandas()\n",
    "t_by_area['ONS FDI Area'] = 'fdi/' + t_by_area['Area']\n",
    "t_by_area['ONS FDI Area'] = t_by_area['ONS FDI Area'].str.strip()\n",
    "t_by_area.drop(columns=['DATAMARKER','Area'], inplace=True)\n",
    "t_by_area.rename(columns={'OBS': 'Value'}, inplace=True)\n",
    "t_by_area.replace('', pd.np.nan, inplace=True)\n",
    "t_by_area.dropna(subset=['Value'], inplace=True)\n",
    "t_by_area[['Value', 'Year']] = t_by_area[['Value', 'Year']].astype(float).astype(int)\n",
    "t_by_area['Component'] = 'FDI - '  + t_by_area['Component']\n",
    "table = pd.concat([table, t_by_area])"
   ]
  },
  {
   "cell_type": "code",
   "execution_count": 5,
   "metadata": {},
   "outputs": [
    {
     "name": "stdout",
     "output_type": "stream",
     "text": [
      "\n"
     ]
    }
   ],
   "source": [
    "by_area = sheets['3.2 ']\n",
    "years = by_area.excel_ref('D6').expand(DOWN).is_not_blank().is_not_whitespace()\n",
    "areas = by_area.excel_ref('A7:C278').is_not_blank().is_not_whitespace() \n",
    "areas = areas.filter(lambda c: c.value.strip() != 'of which').filter(lambda c: c.value.strip() != 'EAST COUNTRIES')\n",
    "areas = areas.filter(lambda c: c.value.strip() != 'COUNTRIES').filter(lambda c: c.value.strip() != 'EASTERN')\n",
    "areas = areas - by_area.excel_ref('B276')\n",
    "components = by_area.excel_ref('E5:M6').expand(RIGHT).is_not_blank().is_not_whitespace()\n",
    "components = components - by_area.excel_ref('E5') - by_area.excel_ref('H5') - by_area.excel_ref('L5')                     \n",
    "obs = by_area.excel_ref('E7').expand(DOWN).expand(RIGHT).is_not_blank().is_not_whitespace() \n",
    "cs = ConversionSegment(\n",
    "    obs, [\n",
    "        HDim(years, 'Year', DIRECTLY, LEFT),\n",
    "        HDim(areas, 'Area', CLOSEST,ABOVE),\n",
    "        HDimConst('Investment Direction', 'outward'),\n",
    "        HDim(components,'Component', DIRECTLY, ABOVE),\n",
    "        HDimConst('Industry', 'All activities'),\n",
    "        HDimConst('International Trade Basis', 'BPM5')\n",
    "    ]\n",
    ")\n",
    "# savepreviewhtml(cs)\n",
    "t_by_area = cs.topandas()\n",
    "t_by_area['ONS FDI Area'] = 'fdi/' + t_by_area['Area']\n",
    "t_by_area['ONS FDI Area'] = t_by_area['ONS FDI Area'].str.strip()\n",
    "t_by_area.drop(columns=['DATAMARKER','Area'], inplace=True)\n",
    "t_by_area.rename(columns={'OBS': 'Value'}, inplace=True)\n",
    "t_by_area.replace('', pd.np.nan, inplace=True)\n",
    "t_by_area.dropna(subset=['Value'], inplace=True)\n",
    "t_by_area[['Value', 'Year']] = t_by_area[['Value', 'Year']].astype(float).astype(int)\n",
    "table = pd.concat([table, t_by_area])"
   ]
  },
  {
   "cell_type": "code",
   "execution_count": 6,
   "metadata": {},
   "outputs": [
    {
     "name": "stdout",
     "output_type": "stream",
     "text": [
      "\n"
     ]
    }
   ],
   "source": [
    "by_area = sheets['4.2 ']\n",
    "years = by_area.excel_ref('D6').expand(DOWN).is_not_blank().is_not_whitespace()\n",
    "areas = by_area.excel_ref('A7:C278').is_not_blank().is_not_whitespace() \n",
    "areas = areas.filter(lambda c: c.value.strip() != 'of which').filter(lambda c: c.value.strip() != 'EAST COUNTRIES')\n",
    "areas = areas.filter(lambda c: c.value.strip() != 'COUNTRIES').filter(lambda c: c.value.strip() != 'EASTERN')\n",
    "areas = areas - by_area.excel_ref('B276')\n",
    "components = by_area.excel_ref('E5:M6').expand(RIGHT).is_not_blank().is_not_whitespace()\n",
    "components = components - by_area.excel_ref('E5') - by_area.excel_ref('L5')                     \n",
    "obs = by_area.excel_ref('E7').expand(DOWN).expand(RIGHT).is_not_blank().is_not_whitespace() \n",
    "cs = ConversionSegment(\n",
    "    obs, [\n",
    "        HDim(years, 'Year', DIRECTLY, LEFT),\n",
    "        HDim(areas, 'Area', CLOSEST,ABOVE),\n",
    "        HDimConst('Investment Direction', 'outward'),\n",
    "        HDim(components,'Component', DIRECTLY, ABOVE),\n",
    "        HDimConst('Industry', 'All activities'),\n",
    "        HDimConst('International Trade Basis', 'BPM5')\n",
    "    ]\n",
    ")\n",
    "# savepreviewhtml(cs)\n",
    "t_by_area = cs.topandas()\n",
    "t_by_area['ONS FDI Area'] = 'fdi/' + t_by_area['Area']\n",
    "t_by_area['ONS FDI Area'] = t_by_area['ONS FDI Area'].str.strip()\n",
    "t_by_area.drop(columns=['DATAMARKER','Area'], inplace=True)\n",
    "t_by_area.rename(columns={'OBS': 'Value'}, inplace=True)\n",
    "t_by_area.replace('', pd.np.nan, inplace=True)\n",
    "t_by_area.dropna(subset=['Value'], inplace=True)\n",
    "t_by_area[['Value', 'Year']] = t_by_area[['Value', 'Year']].astype(float).astype(int)\n",
    "t_by_area['Component'] = 'Earnings from FDI - '  + t_by_area['Component']\n",
    "table = pd.concat([table, t_by_area])"
   ]
  },
  {
   "cell_type": "code",
   "execution_count": 7,
   "metadata": {
    "collapsed": true
   },
   "outputs": [],
   "source": [
    "sr = ['2.3','3.3','4.3']"
   ]
  },
  {
   "cell_type": "code",
   "execution_count": 8,
   "metadata": {
    "collapsed": true
   },
   "outputs": [],
   "source": [
    "fc = ['Total net foreign direct investment in the UK',\n",
    "      'Total net FDI international investment position in the UK at end period',\n",
    "      'Total net FDI earnings in the UK']"
   ]
  },
  {
   "cell_type": "code",
   "execution_count": 9,
   "metadata": {},
   "outputs": [
    {
     "name": "stdout",
     "output_type": "stream",
     "text": [
      "\n"
     ]
    },
    {
     "name": "stderr",
     "output_type": "stream",
     "text": [
      "C:\\ProgramData\\Anaconda3\\lib\\site-packages\\ipykernel_launcher.py:34: FutureWarning: Sorting because non-concatenation axis is not aligned. A future version\n",
      "of pandas will change to not sort by default.\n",
      "\n",
      "To accept the future behavior, pass 'sort=False'.\n",
      "\n",
      "To retain the current behavior and silence the warning, pass 'sort=True'.\n",
      "\n"
     ]
    },
    {
     "name": "stdout",
     "output_type": "stream",
     "text": [
      "\n",
      "\n"
     ]
    }
   ],
   "source": [
    "i = 0\n",
    "for sh_id in sr:\n",
    "    by_area = sheets[sh_id]\n",
    "    years = by_area.excel_ref('E6').expand(DOWN).is_not_blank().is_not_whitespace()\n",
    "    areas = by_area.excel_ref('A6:C277').is_not_blank().is_not_whitespace() \n",
    "    areas = areas.filter(lambda c: c.value.strip() != 'of which').filter(lambda c: c.value.strip() != 'EAST COUNTRIES')\n",
    "    areas = areas.filter(lambda c: c.value.strip() != 'COUNTRIES').filter(lambda c: c.value.strip() != 'EASTERN')\n",
    "    areas = areas - by_area.excel_ref('B275:B276')\n",
    "    components = by_area.excel_ref('F5').expand(RIGHT).is_not_blank().is_not_whitespace()\n",
    "    obs = by_area.excel_ref('F6').expand(DOWN).expand(RIGHT).is_not_blank().is_not_whitespace()\n",
    "    cs = ConversionSegment(\n",
    "        obs, [\n",
    "            HDim(years, 'Year', DIRECTLY, LEFT),\n",
    "            HDim(areas, 'Area', CLOSEST,ABOVE),\n",
    "            HDimConst('Investment Direction', 'outward'),\n",
    "            HDim(components,'Industry', DIRECTLY, ABOVE),\n",
    "            HDimConst('International Trade Basis', 'BPM5')\n",
    "        ]\n",
    "    )\n",
    "#     savepreviewhtml(cs)\n",
    "    t_by_area = cs.topandas()\n",
    "    t_by_area['ONS FDI Area'] = 'fdi/' + t_by_area['Area']\n",
    "    t_by_area['ONS FDI Area'] = t_by_area['ONS FDI Area'].str.strip()\n",
    "    t_by_area.drop(columns=['DATAMARKER','Area'], inplace=True)\n",
    "    t_by_area.rename(columns={'OBS': 'Value'}, inplace=True)\n",
    "\n",
    "    t_by_area.replace('', pd.np.nan, inplace=True)\n",
    "    t_by_area.dropna(subset=['Value'], inplace=True)\n",
    "\n",
    "    t_by_area[['Value', 'Year']] = t_by_area[['Value', 'Year']].astype(float).astype(int)\n",
    "    t_by_area['Component'] = fc[i]\n",
    "    i = i + 1\n",
    "\n",
    "    table = pd.concat([table, t_by_area])"
   ]
  },
  {
   "cell_type": "code",
   "execution_count": 10,
   "metadata": {
    "collapsed": true
   },
   "outputs": [],
   "source": [
    "st = ['2.1','3.1','4.1 ']"
   ]
  },
  {
   "cell_type": "code",
   "execution_count": 11,
   "metadata": {
    "collapsed": true
   },
   "outputs": [],
   "source": [
    "fc = ['Total net foreign direct investment in the UK',\n",
    "      'Total net FDI international investment position in the UK at end period',\n",
    "      'Total net FDI earnings in the UK']"
   ]
  },
  {
   "cell_type": "code",
   "execution_count": 12,
   "metadata": {},
   "outputs": [
    {
     "name": "stdout",
     "output_type": "stream",
     "text": [
      "\n"
     ]
    },
    {
     "name": "stderr",
     "output_type": "stream",
     "text": [
      "C:\\ProgramData\\Anaconda3\\lib\\site-packages\\ipykernel_launcher.py:34: FutureWarning: Sorting because non-concatenation axis is not aligned. A future version\n",
      "of pandas will change to not sort by default.\n",
      "\n",
      "To accept the future behavior, pass 'sort=False'.\n",
      "\n",
      "To retain the current behavior and silence the warning, pass 'sort=True'.\n",
      "\n"
     ]
    },
    {
     "name": "stdout",
     "output_type": "stream",
     "text": [
      "\n",
      "\n"
     ]
    }
   ],
   "source": [
    "i = 0\n",
    "for sh_id in st:\n",
    "    by_area = sheets[sh_id]\n",
    "    years = by_area.excel_ref('A5').expand(RIGHT).is_not_blank().is_not_whitespace()\n",
    "    areas = by_area.excel_ref('A5').expand(DOWN).is_not_blank()\n",
    "    sub_areas = by_area.excel_ref('B5').expand(DOWN).is_not_blank().filter(lambda c: c.value.strip() != 'of which')\n",
    "    countries = by_area.excel_ref('C5').expand(DOWN).is_not_blank().is_not_whitespace()\n",
    "    obs = years.fill(DOWN)\n",
    "    obs = obs & (sub_areas | areas | countries).expand(RIGHT)\n",
    "    cs = ConversionSegment(\n",
    "        obs, [\n",
    "            HDim(years, 'Year', DIRECTLY, ABOVE),\n",
    "            HDim(areas, 'Area', DIRECTLY, LEFT),\n",
    "            HDim(sub_areas, 'Sub area', DIRECTLY, LEFT),\n",
    "            HDim(countries, 'Country', DIRECTLY, LEFT),\n",
    "            HDimConst('Investment Direction', 'outward'),\n",
    "            HDimConst('Industry', 'All activities'),\n",
    "            HDimConst('International Trade Basis', 'BPM5')\n",
    "        ]\n",
    "    )\n",
    "    # savepreviewhtml(cs)\n",
    "    t_by_area = cs.topandas()\n",
    "    t_by_area['ONS FDI Area'] = t_by_area.apply(\n",
    "        lambda row: ''.join(\n",
    "            [s.strip() for s in [row['Area'], row['Sub area'], row['Country']] if s != None]), axis=1)\n",
    "    t_by_area['ONS FDI Area'] = 'fdi/' + t_by_area['ONS FDI Area']\n",
    "    t_by_area.drop(columns=['DATAMARKER','Area', 'Sub area','Country'], inplace=True)\n",
    "    t_by_area.rename(columns={'OBS': 'Value'}, inplace=True)\n",
    "    t_by_area.replace('', pd.np.nan, inplace=True)\n",
    "    t_by_area.dropna(subset=['Value'], inplace=True)\n",
    "    t_by_area[['Value', 'Year']] = t_by_area[['Value', 'Year']].astype(float).astype(int)\n",
    "    t_by_area['Component'] = fc[i]\n",
    "    i = i + 1\n",
    "    table = pd.concat([table, t_by_area])"
   ]
  },
  {
   "cell_type": "code",
   "execution_count": 13,
   "metadata": {
    "collapsed": true
   },
   "outputs": [],
   "source": [
    "table['International Trade Basis'] = ['BPM6' if x>=2012 else 'BPM5' for x in table['Year']]"
   ]
  },
  {
   "cell_type": "code",
   "execution_count": 14,
   "metadata": {
    "collapsed": true
   },
   "outputs": [],
   "source": [
    "table['ONS FDI Area'] = table['ONS FDI Area'].str.lower()"
   ]
  },
  {
   "cell_type": "code",
   "execution_count": 15,
   "metadata": {
    "collapsed": true
   },
   "outputs": [],
   "source": [
    "table['Industry'] = table['Industry'].map(\n",
    "    lambda x: {\n",
    "        'Total' : 'All activities',\n",
    "        'Agriculture, forest & fishing' : 'Agriculture, forestry & fishing',\n",
    "        'Retails & wholesale trade, repair of motor vehicles & motor cycles,' : 'Retail & wholesale trade, repair of motor vehicles & motor cycles'\n",
    "        }.get(x, x))"
   ]
  },
  {
   "cell_type": "code",
   "execution_count": 16,
   "metadata": {
    "collapsed": true
   },
   "outputs": [],
   "source": [
    "table['Component'] = table['Component'].map(\n",
    "    lambda x: {\n",
    "        'FDI - Total net foreign direct investment abroad' : 'Total net foreign direct investment abroad',\n",
    "        'Earnings from FDI - Total net FDI earnings abroad' : 'Total net FDI earnings abroad'\n",
    "        }.get(x, x))"
   ]
  },
  {
   "cell_type": "code",
   "execution_count": 17,
   "metadata": {
    "collapsed": true
   },
   "outputs": [],
   "source": [
    "import urllib.request as request\n",
    "import csv\n",
    "import io\n",
    "import requests\n",
    "r = request.urlopen('https://raw.githubusercontent.com/ONS-OpenData/ref_trade/master/codelists/fdi-component.csv').read().decode('utf8').split(\"\\n\")\n",
    "reader = csv.reader(r)\n",
    "url=\"https://raw.githubusercontent.com/ONS-OpenData/ref_trade/master/codelists/fdi-component.csv\"\n",
    "s=requests.get(url).content\n",
    "c=pd.read_csv(io.StringIO(s.decode('utf-8')))\n",
    "table = pd.merge(table, c, how = 'left', left_on = 'Component', right_on = 'Label')\n",
    "table.columns = ['FDI Component' if x=='Notation' else x for x in table.columns]\n",
    "r = request.urlopen('https://raw.githubusercontent.com/ONS-OpenData/ref_trade/master/codelists/sic-industry.csv').read().decode('utf8').split(\"\\n\")\n",
    "reader = csv.reader(r)\n",
    "url=\"https://raw.githubusercontent.com/ONS-OpenData/ref_trade/master/codelists/sic-industry.csv\"\n",
    "s=requests.get(url).content\n",
    "c=pd.read_csv(io.StringIO(s.decode('utf-8')))\n",
    "table = pd.merge(table, c, how = 'left', left_on = 'Industry', right_on = 'Label')\n",
    "table.columns = ['SIC Industry' if x=='Notation' else x for x in table.columns]"
   ]
  },
  {
   "cell_type": "code",
   "execution_count": 18,
   "metadata": {
    "collapsed": true
   },
   "outputs": [],
   "source": [
    "table['ONS FDI Area'] = table['ONS FDI Area'].map(\n",
    "    lambda x: {\n",
    "        'fdi/other european' : 'fdi/other-european-countries',\n",
    "        'fdi/other' : 'fdi/other-european-countries',\n",
    "        'fdi/countries' : 'fdi/the-americas',\n",
    "        'fdi/uk offshore' : 'fdi/uk-offshore-islands',\n",
    "        'fdi/islands' : 'fdi/uk-offshore-islands',\n",
    "        'fdi/near & middle east' : 'fdi/near-and-middle-east-countries',\n",
    "        'fdi/other asian' : 'fdi/other-asian-countries',\n",
    "        'fdi/central &' : 'fdi/central-and-eastern-europe',\n",
    "        'fdi/eastern' : 'fdi/central-and-eastern-europe',\n",
    "        'fdi/other' : 'fdi/other-european-countries',\n",
    "        'fdi/european' : 'fdi/other-european-countries',\n",
    "        'fdi/islands' : 'fdi/uk-offshore-islands',\n",
    "        'fdi/near & middle' : 'fdi/near-and-middle-east-countries',\n",
    "        'fdi/east countries' : 'fdi/near-and-middle-east-countries',\n",
    "        'fdi/gulf arabian' : 'fdi/gulf-arabian-countries',\n",
    "        'fdi/south korea'  : 'fdi/south-korea',\n",
    "        'fdi/hong kong'  : 'fdi/hong-kong',\n",
    "        'fdi/south africa' : 'fdi/south-africa',\n",
    "        'fdi/the americas'  : 'fdi/the-americas',\n",
    "        'fdi/australasia & oceania' : 'fdi/australasia-and-oceania',\n",
    "        'fdi/oceania' : 'fdi/australasia-and-oceania',\n",
    "        'fdi/australasia &' : 'fdi/australasia-and-oceania',\n",
    "        'fdi/australasia' : 'fdi/australasia-and-oceania',\n",
    "        'fdi/& oceania' : 'fdi/australasia-and-oceania',\n",
    "        'fdi/world total' : 'fdi/world-total',\n",
    "        'fdi/central & eastern europe' : 'fdi/central-and-eastern-europe',\n",
    "        'fdi/central & eastern' : 'fdi/central-and-eastern-europe',\n",
    "        'fdi/new zealand' : 'fdi/new-zealand',\n",
    "        'fdi/other european countries' :  'fdi/other-european-countries',\n",
    "        'fdi/uk offshore islands' : 'fdi/uk-offshore-islands', \n",
    "        'fdi/near & middle east countries'  : 'fdi/near-and-middle-east-countries',\n",
    "        'fdi/other asian countries' : 'fdi/other-asian-countries',\n",
    "        'fdi/other asian' : 'fdi/other-asian-countries',\n",
    "        'fdi/gulf arabian countries' : 'fdi/gulf-arabian-countries',\n",
    "        'fdi/czech republic' : 'fdi/czech-republic',\n",
    "        'fdi/irish republic' : 'fdi/irish-republic',\n",
    "        'fdi/ireland' : 'fdi/irish-republic'\n",
    "        }.get(x, x))"
   ]
  },
  {
   "cell_type": "code",
   "execution_count": 19,
   "metadata": {
    "collapsed": true
   },
   "outputs": [],
   "source": [
    "table.drop_duplicates(inplace = True)"
   ]
  },
  {
   "cell_type": "code",
   "execution_count": 20,
   "metadata": {
    "collapsed": true
   },
   "outputs": [],
   "source": [
    "table.drop(columns=['Component','Industry', 'Label_x','Parent Notation_x', 'Sort Priority_x',\n",
    "                   'Description_x', 'Label_y','Parent Notation_y', 'Sort Priority_y',\n",
    "                   'Description_y' ], inplace=True)"
   ]
  },
  {
   "cell_type": "code",
   "execution_count": 21,
   "metadata": {
    "collapsed": true
   },
   "outputs": [],
   "source": [
    "table['Unit'] = 'gbp-million'\n",
    "table['Measure Type'] = 'GBP Total'"
   ]
  },
  {
   "cell_type": "code",
   "execution_count": null,
   "metadata": {
    "collapsed": true
   },
   "outputs": [],
   "source": []
  }
 ],
 "metadata": {
  "kernelspec": {
   "display_name": "Python 3",
   "language": "python",
   "name": "python3"
  },
  "language_info": {
   "codemirror_mode": {
    "name": "ipython",
    "version": 3
   },
   "file_extension": ".py",
   "mimetype": "text/x-python",
   "name": "python",
   "nbconvert_exporter": "python",
   "pygments_lexer": "ipython3",
   "version": "3.6.3"
  }
 },
 "nbformat": 4,
 "nbformat_minor": 2
}
